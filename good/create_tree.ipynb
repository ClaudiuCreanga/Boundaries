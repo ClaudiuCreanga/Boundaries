{
 "cells": [
  {
   "cell_type": "code",
   "execution_count": 1,
   "id": "494c0c13-f7e9-4f45-85de-a356f056f5cc",
   "metadata": {},
   "outputs": [],
   "source": [
    "import pandas as pd\n"
   ]
  },
  {
   "cell_type": "code",
   "execution_count": null,
   "id": "bdfbc51a-3f39-44f8-bed5-7e9aeb4464de",
   "metadata": {},
   "outputs": [],
   "source": [
    "# pt a crea distantele  python dist.py table_revised_2.txt\n"
   ]
  },
  {
   "cell_type": "code",
   "execution_count": 2,
   "id": "50c9a24e-7403-4cc0-ad0e-b26e03ace39f",
   "metadata": {},
   "outputs": [],
   "source": [
    "df1 = pd.read_csv(\"/Users/claudiucreanga/projects/Boundaries/Figures/jaccard_distances.txt\", sep=\"\\t\") \n",
    "langs = [\"Sic         \"]\n",
    "for x in df1[\"Sic          0.0\"].str.split().values:\n",
    "    langs.append(x[0]+\"         \")"
   ]
  },
  {
   "cell_type": "code",
   "execution_count": 3,
   "id": "4d7b30d5-df3d-4f07-986f-7b2580e4afde",
   "metadata": {},
   "outputs": [],
   "source": [
    "df = pd.read_csv(\"/Users/claudiucreanga/projects/Boundaries/TableS3_hamming_revised_4\", sep=\"\\t\")  # new distances file create anterior\n",
    "df[\"Unnamed: 0\"] = langs"
   ]
  },
  {
   "cell_type": "code",
   "execution_count": 6,
   "id": "d4d5e2d9-22ef-4d77-a2e1-d9c761ddf337",
   "metadata": {},
   "outputs": [],
   "source": [
    "df.to_csv('output.txt', header=False, index=False, sep=\"\t\")   \n",
    "# acest fisier trebuie mutat pe calc celalalat\n",
    "# scris 58 pe primul rand\n",
    "# rulat neighbor din phyplip\n",
    "# dat N pt UPGA si apoi Y\n",
    "# apoi fisiertul nex incarcat in treeviewer https://treeviewer.org/"
   ]
  },
  {
   "cell_type": "code",
   "execution_count": null,
   "id": "39fbf79d-9ccf-4323-9088-88d8339a9157",
   "metadata": {},
   "outputs": [],
   "source": []
  }
 ],
 "metadata": {
  "kernelspec": {
   "display_name": "Python 3 (ipykernel)",
   "language": "python",
   "name": "python3"
  },
  "language_info": {
   "codemirror_mode": {
    "name": "ipython",
    "version": 3
   },
   "file_extension": ".py",
   "mimetype": "text/x-python",
   "name": "python",
   "nbconvert_exporter": "python",
   "pygments_lexer": "ipython3",
   "version": "3.12.0"
  }
 },
 "nbformat": 4,
 "nbformat_minor": 5
}
