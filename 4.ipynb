{
 "cells": [
  {
   "cell_type": "code",
   "execution_count": 1,
   "id": "943dd935-af7f-40cb-ac8f-1125869ff5c4",
   "metadata": {},
   "outputs": [],
   "source": [
    "import pandas as pd\n",
    "import matplotlib.pyplot as plt\n",
    "import numpy as np\n",
    "import seaborn as sns\n"
   ]
  },
  {
   "cell_type": "code",
   "execution_count": 3,
   "id": "dd2e1a06-f75e-4187-adf8-d349028bbb84",
   "metadata": {},
   "outputs": [],
   "source": [
    "# generate distance file\n",
    "# replace tabs with 2 spaces\n",
    "# add one more space for smaller column names (maybe 7 spaces for all cols and 1 more for 2-3 of them that are smaller)\n",
    "# add number of rows on top"
   ]
  },
  {
   "cell_type": "code",
   "execution_count": 4,
   "id": "744f14d9-3d8e-4382-b10f-6ea0496cb0eb",
   "metadata": {},
   "outputs": [
    {
     "data": {
      "text/html": [
       "<div>\n",
       "<style scoped>\n",
       "    .dataframe tbody tr th:only-of-type {\n",
       "        vertical-align: middle;\n",
       "    }\n",
       "\n",
       "    .dataframe tbody tr th {\n",
       "        vertical-align: top;\n",
       "    }\n",
       "\n",
       "    .dataframe thead th {\n",
       "        text-align: right;\n",
       "    }\n",
       "</style>\n",
       "<table border=\"1\" class=\"dataframe\">\n",
       "  <thead>\n",
       "    <tr style=\"text-align: right;\">\n",
       "      <th></th>\n",
       "      <th>Unnamed: 0</th>\n",
       "      <th>Label</th>\n",
       "      <th>Parameter</th>\n",
       "      <th>Implication(s)</th>\n",
       "      <th>Label.1</th>\n",
       "      <th>Sic</th>\n",
       "      <th>NCa</th>\n",
       "      <th>It</th>\n",
       "      <th>Sp</th>\n",
       "      <th>Fr</th>\n",
       "      <th>...</th>\n",
       "      <th>wB</th>\n",
       "      <th>Wo</th>\n",
       "      <th>Mal</th>\n",
       "      <th>Arc</th>\n",
       "      <th>Lak</th>\n",
       "      <th>Label.2</th>\n",
       "      <th>Unnamed: 64</th>\n",
       "      <th>0</th>\n",
       "      <th>+</th>\n",
       "      <th>-</th>\n",
       "    </tr>\n",
       "  </thead>\n",
       "  <tbody>\n",
       "    <tr>\n",
       "      <th>0</th>\n",
       "      <td>1.0</td>\n",
       "      <td>FGM</td>\n",
       "      <td>± grammaticalized morphology</td>\n",
       "      <td>NaN</td>\n",
       "      <td>FGM</td>\n",
       "      <td>+</td>\n",
       "      <td>+</td>\n",
       "      <td>+</td>\n",
       "      <td>+</td>\n",
       "      <td>+</td>\n",
       "      <td>...</td>\n",
       "      <td>+</td>\n",
       "      <td>+</td>\n",
       "      <td>+</td>\n",
       "      <td>+</td>\n",
       "      <td>+</td>\n",
       "      <td>FGM</td>\n",
       "      <td>1.0</td>\n",
       "      <td>0.0</td>\n",
       "      <td>56.0</td>\n",
       "      <td>2.0</td>\n",
       "    </tr>\n",
       "    <tr>\n",
       "      <th>1</th>\n",
       "      <td>2.0</td>\n",
       "      <td>FGA</td>\n",
       "      <td>± grammaticalized agreement</td>\n",
       "      <td>+FGM</td>\n",
       "      <td>FGA</td>\n",
       "      <td>+</td>\n",
       "      <td>+</td>\n",
       "      <td>+</td>\n",
       "      <td>+</td>\n",
       "      <td>+</td>\n",
       "      <td>...</td>\n",
       "      <td>+</td>\n",
       "      <td>+</td>\n",
       "      <td>-</td>\n",
       "      <td>+</td>\n",
       "      <td>+</td>\n",
       "      <td>FGA</td>\n",
       "      <td>2.0</td>\n",
       "      <td>2.0</td>\n",
       "      <td>53.0</td>\n",
       "      <td>3.0</td>\n",
       "    </tr>\n",
       "    <tr>\n",
       "      <th>2</th>\n",
       "      <td>3.0</td>\n",
       "      <td>FGK</td>\n",
       "      <td>± grammaticalized Case</td>\n",
       "      <td>+FGM</td>\n",
       "      <td>FGK</td>\n",
       "      <td>+</td>\n",
       "      <td>+</td>\n",
       "      <td>+</td>\n",
       "      <td>+</td>\n",
       "      <td>+</td>\n",
       "      <td>...</td>\n",
       "      <td>+</td>\n",
       "      <td>-</td>\n",
       "      <td>+</td>\n",
       "      <td>+</td>\n",
       "      <td>+</td>\n",
       "      <td>FGK</td>\n",
       "      <td>3.0</td>\n",
       "      <td>2.0</td>\n",
       "      <td>55.0</td>\n",
       "      <td>1.0</td>\n",
       "    </tr>\n",
       "    <tr>\n",
       "      <th>3</th>\n",
       "      <td>4.0</td>\n",
       "      <td>SPK</td>\n",
       "      <td>± grammaticalized (ultra-)spatial Cases</td>\n",
       "      <td>+FGK</td>\n",
       "      <td>SPK</td>\n",
       "      <td>-</td>\n",
       "      <td>-</td>\n",
       "      <td>-</td>\n",
       "      <td>-</td>\n",
       "      <td>-</td>\n",
       "      <td>...</td>\n",
       "      <td>-</td>\n",
       "      <td>0</td>\n",
       "      <td>-</td>\n",
       "      <td>-</td>\n",
       "      <td>-</td>\n",
       "      <td>SPK</td>\n",
       "      <td>4.0</td>\n",
       "      <td>3.0</td>\n",
       "      <td>8.0</td>\n",
       "      <td>47.0</td>\n",
       "    </tr>\n",
       "    <tr>\n",
       "      <th>4</th>\n",
       "      <td>5.0</td>\n",
       "      <td>FGP</td>\n",
       "      <td>± grammaticalized person</td>\n",
       "      <td>+FGM</td>\n",
       "      <td>FGP</td>\n",
       "      <td>+</td>\n",
       "      <td>+</td>\n",
       "      <td>+</td>\n",
       "      <td>+</td>\n",
       "      <td>+</td>\n",
       "      <td>...</td>\n",
       "      <td>+</td>\n",
       "      <td>+</td>\n",
       "      <td>+</td>\n",
       "      <td>+</td>\n",
       "      <td>+</td>\n",
       "      <td>FGP</td>\n",
       "      <td>5.0</td>\n",
       "      <td>2.0</td>\n",
       "      <td>54.0</td>\n",
       "      <td>2.0</td>\n",
       "    </tr>\n",
       "  </tbody>\n",
       "</table>\n",
       "<p>5 rows × 68 columns</p>\n",
       "</div>"
      ],
      "text/plain": [
       "   Unnamed: 0 Label                                          Parameter  \\\n",
       "0         1.0   FGM                       ± grammaticalized morphology   \n",
       "1         2.0   FGA                        ± grammaticalized agreement   \n",
       "2         3.0   FGK                             ± grammaticalized Case   \n",
       "3         4.0   SPK            ± grammaticalized (ultra-)spatial Cases   \n",
       "4         5.0   FGP  ± grammaticalized person                            \n",
       "\n",
       "  Implication(s) Label.1 Sic NCa It Sp Fr  ... wB Wo Mal Arc Lak Label.2  \\\n",
       "0            NaN     FGM   +   +  +  +  +  ...  +  +   +   +   +     FGM   \n",
       "1           +FGM     FGA   +   +  +  +  +  ...  +  +   -   +   +     FGA   \n",
       "2           +FGM     FGK   +   +  +  +  +  ...  +  -   +   +   +     FGK   \n",
       "3           +FGK     SPK   -   -  -  -  -  ...  -  0   -   -   -     SPK   \n",
       "4           +FGM     FGP   +   +  +  +  +  ...  +  +   +   +   +     FGP   \n",
       "\n",
       "  Unnamed: 64    0     +     -  \n",
       "0         1.0  0.0  56.0   2.0  \n",
       "1         2.0  2.0  53.0   3.0  \n",
       "2         3.0  2.0  55.0   1.0  \n",
       "3         4.0  3.0   8.0  47.0  \n",
       "4         5.0  2.0  54.0   2.0  \n",
       "\n",
       "[5 rows x 68 columns]"
      ]
     },
     "execution_count": 4,
     "metadata": {},
     "output_type": "execute_result"
    }
   ],
   "source": [
    "df1 = pd.read_excel(\"/Users/ccreanga/Downloads/TableA_Claudiu.xlsx\", sheet_name='TABLE A')\n",
    "df1.head()"
   ]
  },
  {
   "cell_type": "code",
   "execution_count": 5,
   "id": "3d9841cd-11a7-435b-93c2-e2977ccef392",
   "metadata": {},
   "outputs": [
    {
     "data": {
      "text/plain": [
       "94"
      ]
     },
     "execution_count": 5,
     "metadata": {},
     "output_type": "execute_result"
    }
   ],
   "source": [
    "a = []\n",
    "for x in df1.Label[:-1]:\n",
    "    a.append(x)\n",
    "len(a)"
   ]
  },
  {
   "cell_type": "code",
   "execution_count": 6,
   "id": "20cbfe4c-54b4-45c8-8eea-581308f9833a",
   "metadata": {},
   "outputs": [
    {
     "data": {
      "text/plain": [
       "57"
      ]
     },
     "execution_count": 6,
     "metadata": {},
     "output_type": "execute_result"
    }
   ],
   "source": [
    "df = pd.read_excel(\"/Users/ccreanga/Downloads/TableA_Claudiu.xlsx\", sheet_name='Test')\n",
    "# df = df[da.split(\"\\t\")]\n",
    "len(df.columns)"
   ]
  },
  {
   "cell_type": "code",
   "execution_count": 8,
   "id": "302a6aba-dc81-4684-aee8-e331cc8bc367",
   "metadata": {
    "scrolled": true
   },
   "outputs": [
    {
     "name": "stdout",
     "output_type": "stream",
     "text": [
      "[(1, 'Tamil'), (2, 'Telugu'), (3, 'Mandarin'), (4, 'Cantonese'), (5, 'Japanese'), (6, 'Korean'), (7, 'Arabic'), (8, 'Hebrew'), (9, 'Hungarian'), (10, 'Khanty'), (11, 'Estonian'), (12, 'Finnish'), (13, 'Mari'), (14, 'Udmurt'), (15, 'Yukaghir'), (16, 'Even_1'), (17, 'Even_2'), (18, 'Evenki'), (19, 'Yakut'), (20, 'Uzbek'), (21, 'Kazakh'), (22, 'Kirghiz'), (23, 'Turkish'), (24, 'Buryat'), (25, 'Basque_Central'), (26, 'Basque_Western'), (27, 'Wolof'), (28, 'Malagasy'), (29, 'Archi'), (30, 'Lak')]\n"
     ]
    }
   ],
   "source": [
    "c = []\n",
    "for a,b in zip(['Tamil', 'Telugu', 'Mandarin', 'Cantonese', 'Japanese',\n",
    "       'Korean', 'Arabic', 'Hebrew', 'Hungarian', 'Khanty', 'Estonian',\n",
    "       'Finnish', 'Mari', 'Udmurt', 'Yukaghir', 'Even_1', 'Even_2', 'Evenki',\n",
    "       'Yakut', 'Uzbek', 'Kazakh', 'Kirghiz', 'Turkish', 'Buryat',\n",
    "       'Basque_Central', 'Basque_Western', 'Wolof', 'Malagasy', 'Archi',\n",
    "       'Lak'], [i for i in range(1, len(df.columns )+ 2)]):\n",
    "    c.append((b, a))\n",
    "print(c)"
   ]
  },
  {
   "cell_type": "code",
   "execution_count": 319,
   "id": "85585c29-0c4a-41ce-8975-e385b2196fb6",
   "metadata": {},
   "outputs": [
    {
     "data": {
      "text/plain": [
       "68"
      ]
     },
     "execution_count": 319,
     "metadata": {},
     "output_type": "execute_result"
    }
   ],
   "source": [
    "len(df1.columns)"
   ]
  },
  {
   "cell_type": "code",
   "execution_count": 255,
   "id": "9250d4b2-d528-4c54-bbec-ba7b8c21b766",
   "metadata": {},
   "outputs": [],
   "source": [
    "df1 = df1[['Sic',            'NCa',             'It',\n",
    "                   'Sp',             'Fr',            'Ptg',             'Rm',\n",
    "                  'CGB',            'Grk',            'CyG',              'E',\n",
    "                   'Du',            'Afk',              'D',             'Da',\n",
    "                  'Ice',             'FO',            'Nor',            'Blg',\n",
    "                   'SC',            'Slo',             'Po',            'Rus',\n",
    "                   'Ir',            'Wel',             'Ma',             'Hi',\n",
    "                  'Pas',             'Ta',             'Te',            'Man',\n",
    "                  'Can',            'Jap',            'Kor',             'Ar',\n",
    "                  'Heb',             'Hu',            'KhB',            'Est',\n",
    "                  'Fin',            'mMB',            'UdB',             'Yu',\n",
    "                  'EvA',            'EvB',             'Ek',             'Ya',\n",
    "                   'Uz',            'Kaz',            'Kyr',            'Tur',\n",
    "                  'Bur',             'cB',             'wB',             'Wo',\n",
    "                  'Mal',            'Arc',            'Lak']]"
   ]
  },
  {
   "cell_type": "code",
   "execution_count": 248,
   "id": "f5329ff5-8433-4d07-b9c3-0071cb508cce",
   "metadata": {},
   "outputs": [],
   "source": [
    "df = df.drop([32, 33, 34, 35, 36, 37, 38, 39])"
   ]
  },
  {
   "cell_type": "code",
   "execution_count": 336,
   "id": "596349fb-a9fa-4266-ba1b-032db4e783fd",
   "metadata": {},
   "outputs": [],
   "source": [
    "df.T.to_csv(\"/Users/ccreanga/projects/Boundaries/new_table_32_params_2.txt\", sep=\"\\t\")"
   ]
  },
  {
   "cell_type": "code",
   "execution_count": 114,
   "id": "e22208ea-c634-4117-9e38-50d72adf7b3d",
   "metadata": {},
   "outputs": [
    {
     "data": {
      "text/plain": [
       "Index(['Unnamed: 0', 'Siciliano', 'Calabrese_Northern', 'Italian', 'Spanish',\n",
       "       'French', 'Portuguese', 'Romanian', 'Greek_Calabria', 'Greek',\n",
       "       'Greek_Cypriot', 'English', 'Dutch', 'Afrikaans', 'German', 'Danish',\n",
       "       'Icelandic', 'Faroese', 'Norwegian', 'Bulgarian', 'Serbo-Croatian',\n",
       "       'Slovenian', 'Polish', 'Russian', 'Irish', 'Welsh', 'Marathi', 'Hindi',\n",
       "       'Pashto', 'Tamil', 'Telugu', 'Mandarin', 'Cantonese', 'Japanese',\n",
       "       'Korean', 'Arabic', 'Hebrew', 'Hungarian', 'Khanty', 'Estonian',\n",
       "       'Finnish', 'Mari', 'Udmurt', 'Yukaghir', 'Even_1', 'Even_2', 'Evenki',\n",
       "       'Yakut', 'Uzbek', 'Kazakh', 'Kirghiz', 'Turkish', 'Buryat',\n",
       "       'Basque_Central', 'Basque_Western', 'Wolof', 'Malagasy', 'Archi',\n",
       "       'Lak'],\n",
       "      dtype='object')"
      ]
     },
     "execution_count": 114,
     "metadata": {},
     "output_type": "execute_result"
    }
   ],
   "source": [
    "df.columns"
   ]
  },
  {
   "cell_type": "code",
   "execution_count": 245,
   "id": "e92615e8-2abe-4f4b-b4d5-ca6eba093b75",
   "metadata": {},
   "outputs": [
    {
     "data": {
      "text/plain": [
       "array(['Siciliano', 'Calabrese_Northern', 'Italian', 'Spanish', 'French',\n",
       "       'Portuguese', 'Romanian', 'Greek_Calabria', 'Greek',\n",
       "       'Greek_Cypriot', 'English', 'Dutch', 'Afrikaans', 'German',\n",
       "       'Danish', 'Icelandic', 'Faroese', 'Norwegian', 'Bulgarian',\n",
       "       'Serbo-Croatian', 'Slovenian', 'Polish', 'Russian', 'Irish',\n",
       "       'Welsh', 'Marathi', 'Hindi', 'Pashto', 'Tamil', 'Telugu',\n",
       "       'Mandarin', 'Cantonese', 'Japanese', 'Korean', 'Arabic', 'Hebrew',\n",
       "       'Hungarian', 'Khanty', 'Estonian', 'Finnish', 'Mari', 'Udmurt',\n",
       "       'Yukaghir', 'Even_1', 'Even_2', 'Evenki', 'Yakut', 'Uzbek',\n",
       "       'Kazakh', 'Kirghiz', 'Turkish', 'Buryat', 'Basque_Central',\n",
       "       'Basque_Western', 'Wolof', 'Malagasy', 'Archi', 'Lak'],\n",
       "      dtype=object)"
      ]
     },
     "execution_count": 245,
     "metadata": {},
     "output_type": "execute_result"
    }
   ],
   "source": [
    "df1 = pd.read_csv(\"/Users/ccreanga/projects/Boundaries/table.txt\", sep=\"\\t\", header=None)\n",
    "df1[0].values"
   ]
  },
  {
   "cell_type": "code",
   "execution_count": 97,
   "id": "7e3695f4-fa6c-496a-aba6-c6195afe5177",
   "metadata": {},
   "outputs": [
    {
     "data": {
      "text/plain": [
       "'0'"
      ]
     },
     "execution_count": 97,
     "metadata": {},
     "output_type": "execute_result"
    }
   ],
   "source": [
    "list(df1.iloc[0].values[1:])[5]"
   ]
  },
  {
   "cell_type": "code",
   "execution_count": 98,
   "id": "0627208b-c712-4a5d-b857-d53c1a38d8a6",
   "metadata": {},
   "outputs": [
    {
     "data": {
      "text/plain": [
       "array(['FGM', 'FGA', 'FGK', 'SPK', 'FGP', 'FSP', 'FGN', 'SCO', 'GDP',\n",
       "       'FSN', 'FNN', 'FGT', 'FGG', 'FSG', 'CGB', 'FPC', 'DGR', 'DGP',\n",
       "       'CGR', 'NWD', 'FVP', 'DGD', 'DPQ', 'DCN', 'DNN', 'DIN', 'FGC',\n",
       "       'FGE', 'FCN', 'HMP', 'ARR', 'GCN', 'GFN', 'GFP', 'GP3', 'GEI',\n",
       "       'CSE', 'EAL', 'CAL', 'LKA', 'LKO', 'LKP', 'DMP', 'DMG', 'GUN',\n",
       "       'GAD', 'GFL', 'PGL', 'GGH', 'GSI', 'ALP', 'GIT', 'UST', 'GPC',\n",
       "       'PSC', 'PCA', 'PMN', 'RHM', 'FRC', 'NRC', 'DOR', 'FFP', 'NUP',\n",
       "       'PNP', 'NUD', 'NUC', 'NM1', 'NM2', 'NUA', 'NGL', 'EAF', 'ACM',\n",
       "       'DSN', 'DSA', 'DSS', 'DOC', 'NEX', 'PEX', 'FEX', 'PDC', 'PCL',\n",
       "       'APO', 'WAP', 'AGE', 'OPK', 'TSP', 'TDP', 'TDC', 'TSA', 'TAR',\n",
       "       'TLC', 'TND', 'TDA', 'TNL'], dtype=object)"
      ]
     },
     "execution_count": 98,
     "metadata": {},
     "output_type": "execute_result"
    }
   ],
   "source": [
    "df2 = pd.read_excel(\"/Users/ccreanga/Downloads/TableA_Claudiu.xlsx\", sheet_name='TABLE A')\n",
    "df2[\"Label\"][:-1].values"
   ]
  },
  {
   "cell_type": "code",
   "execution_count": 99,
   "id": "defb0604-547c-4529-96bf-9af8087f3c52",
   "metadata": {},
   "outputs": [
    {
     "name": "stdout",
     "output_type": "stream",
     "text": [
      "Language:  Bulgarian , Parameter:  DSS , Row:  75 , New value:  - , Old value:  +\n",
      "Language:  Bulgarian , Parameter:  TDC , Row:  88 , New value:  + , Old value:  -\n",
      "Language:  Bulgarian , Parameter:  TLC , Row:  91 , New value:  0 , Old value:  +\n",
      "Language:  Bulgarian , Parameter:  TDA , Row:  93 , New value:  0 , Old value:  -\n",
      "Language:  Bulgarian , Parameter:  TNL , Row:  94 , New value:  0 , Old value:  +\n"
     ]
    }
   ],
   "source": [
    "for j in range(len(df.T.index)):\n",
    "    for i, v in enumerate(list(df.T.iloc[j].values)):\n",
    "        if list(df1.iloc[j].values[1:])[i].strip() != str(v).strip():\n",
    "            print(\"Language: \", df.T.index[j], \", Parameter: \",df2[\"Label\"][:-1].values[i],  \", Row: \", i+1,  \", New value: \", v, \", Old value: \", list(df1.iloc[j].values[1:])[i])"
   ]
  },
  {
   "cell_type": "code",
   "execution_count": 78,
   "id": "e3ee94e9-a7df-4783-822b-ed424df27eaf",
   "metadata": {},
   "outputs": [
    {
     "data": {
      "text/plain": [
       "array(['+', '+', '+', '-', '+', 0, '+', 0, 0, '+', '+', '-', '+', '+',\n",
       "       '-', '-', '+', 0, '-', '-', '+', '-', '-', '-', '-', '-', 0, 0,\n",
       "       '-', '-', '+', '-', 0, 0, 0, 0, '+', '-', '-', '-', '-', '-', 0, 0,\n",
       "       '-', '+', '-', '-', 0, '-', '-', '-', '-', '-', '+', 0, 0, '-',\n",
       "       '+', '-', '-', '-', '-', '+', '+', '+', '-', '-', 0, 0, 0, 0, 0,\n",
       "       '-', 0, 0, '+', '+', '+', '-', '-', '+', '+', '-', '-', '-', 0,\n",
       "       '+', 0, '-', 0, 0, 0, 0], dtype=object)"
      ]
     },
     "execution_count": 78,
     "metadata": {},
     "output_type": "execute_result"
    }
   ],
   "source": [
    "df.T.iloc[0].values"
   ]
  },
  {
   "cell_type": "code",
   "execution_count": 54,
   "id": "a328febd-b531-4fdb-9946-c4b32fa9ba7f",
   "metadata": {},
   "outputs": [
    {
     "data": {
      "text/plain": [
       "'Siciliano'"
      ]
     },
     "execution_count": 54,
     "metadata": {},
     "output_type": "execute_result"
    }
   ],
   "source": [
    "df.T.index[0]"
   ]
  },
  {
   "cell_type": "code",
   "execution_count": 67,
   "id": "701a779d-e22b-4bd8-82a9-d68bdd36cb34",
   "metadata": {},
   "outputs": [],
   "source": [
    "da = \"+\t+\t+\t-\t+\t0\t+\t0\t0\t+\t+\t-\t+\t+\t-\t-\t+\t0\t-\t-\t-\t-\t-\t-\t-\t-\t0\t0\t-\t-\t+\t-\t0\t0\t0\t0\t+\t-\t-\t-\t-\t-\t0\t0\t-\t+\t-\t-\t0\t-\t-\t-\t-\t-\t+\t0\t0\t-\t+\t-\t-\t-\t-\t+\t+\t+\t-\t0\t0\t0\t-\t0\t0\t-\t0\t0\t+\t+\t+\t-\t-\t+\t+\t-\t-\t-\t0\t+\t0\t-\t0\t0\t0\t0\""
   ]
  },
  {
   "cell_type": "code",
   "execution_count": 70,
   "id": "05f9f674-d0eb-4f7c-9ce1-59840af5589b",
   "metadata": {},
   "outputs": [
    {
     "data": {
      "text/plain": [
       "'0'"
      ]
     },
     "execution_count": 70,
     "metadata": {},
     "output_type": "execute_result"
    }
   ],
   "source": [
    "da.split()[67]"
   ]
  },
  {
   "cell_type": "code",
   "execution_count": 103,
   "id": "9c93131a-d97d-4cf3-9a75-b483505e2ffe",
   "metadata": {},
   "outputs": [],
   "source": [
    "df = pd.read_csv(\"/Users/ccreanga/projects/Boundaries/TableS3_hamming_revised\", sep=\"\\t\")\n",
    "df1 = pd.read_csv(\"/Users/ccreanga/projects/Boundaries/TableS3_hamming\", sep=\"\\t\")"
   ]
  },
  {
   "cell_type": "code",
   "execution_count": 108,
   "id": "88f32836-b5e5-4d07-8ba8-d2af1c4429b7",
   "metadata": {},
   "outputs": [
    {
     "name": "stdout",
     "output_type": "stream",
     "text": [
      "0.123 0.14\n"
     ]
    }
   ],
   "source": [
    "for k,v in zip(df[\"Siciliano\"], df1[\"Siciliano\"]):\n",
    "    if k!=v:\n",
    "        print(k,v)"
   ]
  },
  {
   "cell_type": "code",
   "execution_count": 117,
   "id": "2b56ec65-b1c2-4225-9c3f-32978c48e73b",
   "metadata": {},
   "outputs": [
    {
     "data": {
      "text/plain": [
       "RangeIndex(start=0, stop=58, step=1)"
      ]
     },
     "execution_count": 117,
     "metadata": {},
     "output_type": "execute_result"
    }
   ],
   "source": []
  },
  {
   "cell_type": "code",
   "execution_count": 160,
   "id": "cd3edbe0-552e-4579-9907-d2cb4f988b2e",
   "metadata": {},
   "outputs": [
    {
     "data": {
      "text/plain": [
       "([0.085, 0.085, 0.085, 0.106], [0.083, 0.083, 0.083, 0.104])"
      ]
     },
     "execution_count": 160,
     "metadata": {},
     "output_type": "execute_result"
    }
   ],
   "source": [
    "df = pd.read_csv(\"/Users/ccreanga/projects/Boundaries/TableS3_hamming_revised\", sep=\"\\t\", index_col=0)\n",
    "df1 = pd.read_csv(\"/Users/ccreanga/projects/Boundaries/TableS3_hamming\", sep=\"\\t\", index_col=0)\n",
    "a = [\n",
    "df[\"Bulgarian\"].loc[\"Serbo-Croatian\"],\n",
    "df[\"Bulgarian\"].loc[\"Slovenian\"],\n",
    "df[\"Bulgarian\"].loc[\"Russian\"],\n",
    "df[\"Bulgarian\"].loc[\"Polish\"],\n",
    "]\n",
    "\n",
    "b = [\n",
    "df1[\"Bulgarian\"].loc[\"Serbo-Croatian\"],\n",
    "df1[\"Bulgarian\"].loc[\"Slovenian\"],\n",
    "df1[\"Bulgarian\"].loc[\"Russian\"],\n",
    "df1[\"Bulgarian\"].loc[\"Polish\"]\n",
    "]\n",
    "a,b"
   ]
  },
  {
   "cell_type": "code",
   "execution_count": 164,
   "id": "c43a87a4-53fa-4b69-9d50-a99a21d1f910",
   "metadata": {},
   "outputs": [
    {
     "data": {
      "image/png": "[encoded data removed]",
      "text/plain": [
       "<Figure size 1000x600 with 1 Axes>"
      ]
     },
     "metadata": {},
     "output_type": "display_data"
    }
   ],
   "source": [
    "# a = [5, 7, 8, 6]\n",
    "# b = [3, 4, 6, 5]\n",
    "languages = [\"Serbo-Croatian\", \"Slovenian\", \"Russian\", \"Polish\"]\n",
    "\n",
    "# Creating a bar plot to compare values in a and b\n",
    "plt.figure(figsize=(10, 6))\n",
    "bar_width = 0.3\n",
    "index = range(len(a))\n",
    "\n",
    "# Plotting both 'a' and 'b'\n",
    "plt.bar(index, a, bar_width, label='New distances', color='b', alpha=0.6)\n",
    "plt.bar([i + bar_width for i in index], b, bar_width, label='Old distances', color='r', alpha=0.6)\n",
    "\n",
    "# Adding title and labels\n",
    "plt.xlabel('Languages')\n",
    "plt.ylabel('Hamming distance')\n",
    "plt.title('Comparison between Bulgarian and other slavic languages')\n",
    "plt.xticks([i + bar_width / 2 for i in index], languages)\n",
    "plt.legend()\n",
    "\n",
    "# Displaying the plot\n",
    "plt.tight_layout()\n",
    "plt.show()"
   ]
  },
  {
   "cell_type": "code",
   "execution_count": 159,
   "id": "3d632d6a-805a-4586-837d-ca69a1eb493e",
   "metadata": {},
   "outputs": [
    {
     "name": "stdout",
     "output_type": "stream",
     "text": [
      "3 46\n"
     ]
    },
    {
     "data": {
      "text/plain": [
       "0.06521739130434782"
      ]
     },
     "execution_count": 159,
     "metadata": {},
     "output_type": "execute_result"
    }
   ],
   "source": [
    "a = \"+\t+\t+\t-\t+\t0\t+\t0\t0\t+\t+\t-\t+\t+\t-\t-\t+\t0\t+\t-\t+\t-\t-\t+\t0\t-\t0\t0\t-\t-\t-\t-\t0\t0\t0\t0\t+\t-\t-\t-\t-\t-\t+\t-\t-\t+\t-\t-\t0\t-\t-\t-\t0\t-\t+\t0\t0\t-\t+\t-\t-\t-\t-\t+\t+\t+\t+\t+\t+\t0\t0\t0\t-\t0\t-\t+\t0\t0\t0\t-\t0\t+\t0\t+\t-\t-\t0\t+\t+\t0\t0\t-\t0\t0\"\n",
    "b = \"+\t+\t+\t-\t+\t0\t+\t0\t0\t+\t+\t-\t+\t+\t-\t-\t-\t-\t0\t0\t0\t0\t-\t0\t0\t-\t0\t0\t-\t-\t-\t-\t0\t0\t0\t0\t+\t-\t-\t-\t-\t-\t0\t0\t-\t-\t+\t0\t0\t-\t-\t-\t0\t-\t+\t0\t0\t-\t+\t-\t0\t0\t-\t+\t+\t+\t+\t+\t+\t-\t0\t-\t0\t0\t0\t0\t0\t0\t0\t0\t-\t+\t0\t+\t0\t0\t0\t0\t0\t0\t0\t0\t0\t+\"\n",
    "a = a.split(\"\t\")\n",
    "b = b.split(\"\t\")\n",
    "hamming(a,b)"
   ]
  },
  {
   "cell_type": "code",
   "execution_count": 157,
   "id": "27f6b0f2-04a7-4ca8-a904-5676db034598",
   "metadata": {},
   "outputs": [],
   "source": [
    "def hamming(P1, P2):\n",
    "    \"\"\"Computes the Hamming distance between two strings.\n",
    "\n",
    "    Args:\n",
    "        P1: The first string.\n",
    "        P2: The second string.\n",
    "\n",
    "    Returns:\n",
    "        The Hamming distance between the two strings.\n",
    "    \"\"\"\n",
    "\n",
    "    # Check if the strings are the same length\n",
    "    if len(P1) != len(P2):\n",
    "        raise ValueError(\"Strings must be the same length. Hamming extension must be implemented for different string lengths.\")\n",
    "\n",
    "    # Initialize a counter for the number of mismatches\n",
    "    num_mismatches = 0\n",
    "    length = 0\n",
    "\n",
    "    # Iterate over the strings and count the number of mismatches\n",
    "    # this excludes the 0 items and their index in the other string\n",
    "    for char1, char2 in zip(P1, P2):\n",
    "        if char1 != '0' and char2 != '0':\n",
    "            length += 1\n",
    "            if char1 != char2:\n",
    "                num_mismatches += 1\n",
    "    print(num_mismatches, length)\n",
    "    normalized_hamming_distance = num_mismatches / length\n",
    "\n",
    "    return normalized_hamming_distance"
   ]
  },
  {
   "cell_type": "code",
   "execution_count": 154,
   "id": "a5d34cfe-76c5-4651-be51-2edd43f6aea6",
   "metadata": {},
   "outputs": [
    {
     "name": "stdout",
     "output_type": "stream",
     "text": [
      "3\n"
     ]
    },
    {
     "data": {
      "text/plain": [
       "0.06382978723404255"
      ]
     },
     "execution_count": 154,
     "metadata": {},
     "output_type": "execute_result"
    }
   ],
   "source": []
  },
  {
   "cell_type": "code",
   "execution_count": 158,
   "id": "a62981e0-4c09-4a29-904a-593525d7e633",
   "metadata": {},
   "outputs": [
    {
     "name": "stdout",
     "output_type": "stream",
     "text": [
      "3 47\n"
     ]
    },
    {
     "data": {
      "text/plain": [
       "0.06382978723404255"
      ]
     },
     "execution_count": 158,
     "metadata": {},
     "output_type": "execute_result"
    }
   ],
   "source": [
    "a=\"+\t+\t+\t-\t+\t0\t+\t0\t0\t+\t+\t-\t+\t+\t-\t-\t+\t0\t+\t-\t+\t-\t-\t+\t0\t-\t0\t0\t-\t-\t-\t-\t0\t0\t0\t0\t+\t-\t-\t-\t-\t-\t+\t-\t-\t+\t-\t-\t0\t-\t-\t-\t0\t-\t+\t0\t0\t-\t+\t-\t-\t-\t-\t+\t+\t+\t+\t+\t+\t0\t0\t0\t-\t0\t+\t+\t0\t0\t0\t-\t0\t+\t0\t+\t-\t-\t0\t-\t+\t0\t+\t-\t-\t+\"\n",
    "b=\"+\t+\t+\t-\t+\t0\t+\t0\t0\t+\t+\t-\t+\t+\t-\t-\t-\t-\t0\t0\t0\t0\t-\t0\t0\t-\t0\t0\t-\t-\t-\t-\t0\t0\t0\t0\t+\t-\t-\t-\t-\t-\t0\t0\t-\t-\t+\t0\t0\t-\t-\t-\t0\t-\t+\t0\t0\t-\t+\t-\t0\t0\t-\t+\t+\t+\t+\t+\t+\t-\t0\t-\t0\t0\t0\t0\t0\t0\t0\t0\t-\t+\t0\t+\t0\t0\t0\t0\t0\t0\t0\t0\t0\t+\"\n",
    "a = a.split(\"\t\")\n",
    "b = b.split(\"\t\")\n",
    "hamming(a,b)"
   ]
  },
  {
   "cell_type": "code",
   "execution_count": 144,
   "id": "f64e3d18-eaf7-4189-9523-7c7e5475d9b1",
   "metadata": {},
   "outputs": [
    {
     "data": {
      "text/html": [
       "<div>\n",
       "<style scoped>\n",
       "    .dataframe tbody tr th:only-of-type {\n",
       "        vertical-align: middle;\n",
       "    }\n",
       "\n",
       "    .dataframe tbody tr th {\n",
       "        vertical-align: top;\n",
       "    }\n",
       "\n",
       "    .dataframe thead th {\n",
       "        text-align: right;\n",
       "    }\n",
       "</style>\n",
       "<table border=\"1\" class=\"dataframe\">\n",
       "  <thead>\n",
       "    <tr style=\"text-align: right;\">\n",
       "      <th></th>\n",
       "      <th>self</th>\n",
       "      <th>other</th>\n",
       "    </tr>\n",
       "  </thead>\n",
       "  <tbody>\n",
       "    <tr>\n",
       "      <th>Bulgarian</th>\n",
       "      <td>0.085</td>\n",
       "      <td>0.083</td>\n",
       "    </tr>\n",
       "  </tbody>\n",
       "</table>\n",
       "</div>"
      ],
      "text/plain": [
       "            self  other\n",
       "Bulgarian  0.085  0.083"
      ]
     },
     "execution_count": 144,
     "metadata": {},
     "output_type": "execute_result"
    }
   ],
   "source": [
    "df[\"Serbo-Croatian\"].compare(df1[\"Serbo-Croatian\"])"
   ]
  },
  {
   "cell_type": "code",
   "execution_count": 167,
   "id": "165421ce-9860-441f-b37b-940273d96617",
   "metadata": {},
   "outputs": [
    {
     "data": {
      "text/html": [
       "<div>\n",
       "<style scoped>\n",
       "    .dataframe tbody tr th:only-of-type {\n",
       "        vertical-align: middle;\n",
       "    }\n",
       "\n",
       "    .dataframe tbody tr th {\n",
       "        vertical-align: top;\n",
       "    }\n",
       "\n",
       "    .dataframe thead th {\n",
       "        text-align: right;\n",
       "    }\n",
       "</style>\n",
       "<table border=\"1\" class=\"dataframe\">\n",
       "  <thead>\n",
       "    <tr style=\"text-align: right;\">\n",
       "      <th></th>\n",
       "      <th>a</th>\n",
       "      <th>b</th>\n",
       "      <th>c</th>\n",
       "    </tr>\n",
       "  </thead>\n",
       "  <tbody>\n",
       "    <tr>\n",
       "      <th>0</th>\n",
       "      <td>1</td>\n",
       "      <td>2</td>\n",
       "      <td>3</td>\n",
       "    </tr>\n",
       "    <tr>\n",
       "      <th>1</th>\n",
       "      <td>1</td>\n",
       "      <td>2</td>\n",
       "      <td>3</td>\n",
       "    </tr>\n",
       "    <tr>\n",
       "      <th>2</th>\n",
       "      <td>1</td>\n",
       "      <td>2</td>\n",
       "      <td>5</td>\n",
       "    </tr>\n",
       "  </tbody>\n",
       "</table>\n",
       "</div>"
      ],
      "text/plain": [
       "   a  b  c\n",
       "0  1  2  3\n",
       "1  1  2  3\n",
       "2  1  2  5"
      ]
     },
     "execution_count": 167,
     "metadata": {},
     "output_type": "execute_result"
    }
   ],
   "source": [
    "df = pd.DataFrame([[1,2,3], [1,2,3], [1,2,5]], columns=[\"a\",\"b\", \"c\"])\n",
    "df"
   ]
  },
  {
   "cell_type": "code",
   "execution_count": 171,
   "id": "de4af661-04d5-4456-bff5-2ffe61dca001",
   "metadata": {},
   "outputs": [
    {
     "data": {
      "text/html": [
       "<div>\n",
       "<style scoped>\n",
       "    .dataframe tbody tr th:only-of-type {\n",
       "        vertical-align: middle;\n",
       "    }\n",
       "\n",
       "    .dataframe tbody tr th {\n",
       "        vertical-align: top;\n",
       "    }\n",
       "\n",
       "    .dataframe thead th {\n",
       "        text-align: right;\n",
       "    }\n",
       "</style>\n",
       "<table border=\"1\" class=\"dataframe\">\n",
       "  <thead>\n",
       "    <tr style=\"text-align: right;\">\n",
       "      <th></th>\n",
       "      <th>a</th>\n",
       "      <th>b</th>\n",
       "      <th>c</th>\n",
       "    </tr>\n",
       "  </thead>\n",
       "  <tbody>\n",
       "    <tr>\n",
       "      <th>0</th>\n",
       "      <td>1</td>\n",
       "      <td>2</td>\n",
       "      <td>3</td>\n",
       "    </tr>\n",
       "    <tr>\n",
       "      <th>2</th>\n",
       "      <td>1</td>\n",
       "      <td>2</td>\n",
       "      <td>5</td>\n",
       "    </tr>\n",
       "  </tbody>\n",
       "</table>\n",
       "</div>"
      ],
      "text/plain": [
       "   a  b  c\n",
       "0  1  2  3\n",
       "2  1  2  5"
      ]
     },
     "execution_count": 171,
     "metadata": {},
     "output_type": "execute_result"
    }
   ],
   "source": [
    "df.drop_duplicates()"
   ]
  },
  {
   "cell_type": "code",
   "execution_count": 172,
   "id": "759b1000-d4ea-4fba-9199-09edd91300c8",
   "metadata": {},
   "outputs": [
    {
     "data": {
      "text/html": [
       "<div>\n",
       "<style scoped>\n",
       "    .dataframe tbody tr th:only-of-type {\n",
       "        vertical-align: middle;\n",
       "    }\n",
       "\n",
       "    .dataframe tbody tr th {\n",
       "        vertical-align: top;\n",
       "    }\n",
       "\n",
       "    .dataframe thead th {\n",
       "        text-align: right;\n",
       "    }\n",
       "</style>\n",
       "<table border=\"1\" class=\"dataframe\">\n",
       "  <thead>\n",
       "    <tr style=\"text-align: right;\">\n",
       "      <th></th>\n",
       "      <th>a</th>\n",
       "      <th>b</th>\n",
       "      <th>c</th>\n",
       "    </tr>\n",
       "  </thead>\n",
       "  <tbody>\n",
       "    <tr>\n",
       "      <th>0</th>\n",
       "      <td>1</td>\n",
       "      <td>2</td>\n",
       "      <td>3</td>\n",
       "    </tr>\n",
       "    <tr>\n",
       "      <th>1</th>\n",
       "      <td>1</td>\n",
       "      <td>2</td>\n",
       "      <td>3</td>\n",
       "    </tr>\n",
       "    <tr>\n",
       "      <th>2</th>\n",
       "      <td>1</td>\n",
       "      <td>2</td>\n",
       "      <td>5</td>\n",
       "    </tr>\n",
       "  </tbody>\n",
       "</table>\n",
       "</div>"
      ],
      "text/plain": [
       "   a  b  c\n",
       "0  1  2  3\n",
       "1  1  2  3\n",
       "2  1  2  5"
      ]
     },
     "execution_count": 172,
     "metadata": {},
     "output_type": "execute_result"
    }
   ],
   "source": [
    "df1 = pd.DataFrame([[1,2,3], [1,2,3], [1,2,5]], columns=[\"a\",\"b\", \"c\"])\n",
    "df1"
   ]
  },
  {
   "cell_type": "code",
   "execution_count": 174,
   "id": "fcc58802-da80-4753-9bfa-a75cbfae30d6",
   "metadata": {},
   "outputs": [
    {
     "data": {
      "text/html": [
       "<div>\n",
       "<style scoped>\n",
       "    .dataframe tbody tr th:only-of-type {\n",
       "        vertical-align: middle;\n",
       "    }\n",
       "\n",
       "    .dataframe tbody tr th {\n",
       "        vertical-align: top;\n",
       "    }\n",
       "\n",
       "    .dataframe thead th {\n",
       "        text-align: right;\n",
       "    }\n",
       "</style>\n",
       "<table border=\"1\" class=\"dataframe\">\n",
       "  <thead>\n",
       "    <tr style=\"text-align: right;\">\n",
       "      <th></th>\n",
       "      <th>c</th>\n",
       "    </tr>\n",
       "  </thead>\n",
       "  <tbody>\n",
       "    <tr>\n",
       "      <th>0</th>\n",
       "      <td>3</td>\n",
       "    </tr>\n",
       "    <tr>\n",
       "      <th>2</th>\n",
       "      <td>5</td>\n",
       "    </tr>\n",
       "  </tbody>\n",
       "</table>\n",
       "</div>"
      ],
      "text/plain": [
       "   c\n",
       "0  3\n",
       "2  5"
      ]
     },
     "execution_count": 174,
     "metadata": {},
     "output_type": "execute_result"
    }
   ],
   "source": [
    "df1 = df1[[\"c\"]]\n",
    "df1.drop_duplicates()"
   ]
  },
  {
   "cell_type": "code",
   "execution_count": 177,
   "id": "c9c306b0-07f0-4164-8bdb-734aca5f12d7",
   "metadata": {},
   "outputs": [],
   "source": [
    "a = df1[\"c\"].unique()"
   ]
  },
  {
   "cell_type": "code",
   "execution_count": 179,
   "id": "4e1ffd0d-79e9-4c30-8a66-cd103d9bd43a",
   "metadata": {},
   "outputs": [
    {
     "data": {
      "text/html": [
       "<div>\n",
       "<style scoped>\n",
       "    .dataframe tbody tr th:only-of-type {\n",
       "        vertical-align: middle;\n",
       "    }\n",
       "\n",
       "    .dataframe tbody tr th {\n",
       "        vertical-align: top;\n",
       "    }\n",
       "\n",
       "    .dataframe thead th {\n",
       "        text-align: right;\n",
       "    }\n",
       "</style>\n",
       "<table border=\"1\" class=\"dataframe\">\n",
       "  <thead>\n",
       "    <tr style=\"text-align: right;\">\n",
       "      <th></th>\n",
       "      <th>c</th>\n",
       "    </tr>\n",
       "  </thead>\n",
       "  <tbody>\n",
       "    <tr>\n",
       "      <th>0</th>\n",
       "      <td>3</td>\n",
       "    </tr>\n",
       "    <tr>\n",
       "      <th>1</th>\n",
       "      <td>5</td>\n",
       "    </tr>\n",
       "  </tbody>\n",
       "</table>\n",
       "</div>"
      ],
      "text/plain": [
       "   c\n",
       "0  3\n",
       "1  5"
      ]
     },
     "execution_count": 179,
     "metadata": {},
     "output_type": "execute_result"
    }
   ],
   "source": [
    "b = pd.DataFrame(a, columns=[\"c\"])\n",
    "b"
   ]
  },
  {
   "cell_type": "code",
   "execution_count": 195,
   "id": "a5ae365d-0a29-4230-8509-ee1718a02b22",
   "metadata": {},
   "outputs": [
    {
     "data": {
      "text/html": [
       "<div>\n",
       "<style scoped>\n",
       "    .dataframe tbody tr th:only-of-type {\n",
       "        vertical-align: middle;\n",
       "    }\n",
       "\n",
       "    .dataframe tbody tr th {\n",
       "        vertical-align: top;\n",
       "    }\n",
       "\n",
       "    .dataframe thead th {\n",
       "        text-align: right;\n",
       "    }\n",
       "</style>\n",
       "<table border=\"1\" class=\"dataframe\">\n",
       "  <thead>\n",
       "    <tr style=\"text-align: right;\">\n",
       "      <th></th>\n",
       "      <th>id</th>\n",
       "      <th>predictions</th>\n",
       "    </tr>\n",
       "  </thead>\n",
       "  <tbody>\n",
       "    <tr>\n",
       "      <th>0</th>\n",
       "      <td>0</td>\n",
       "      <td>1</td>\n",
       "    </tr>\n",
       "    <tr>\n",
       "      <th>1</th>\n",
       "      <td>1</td>\n",
       "      <td>1</td>\n",
       "    </tr>\n",
       "    <tr>\n",
       "      <th>2</th>\n",
       "      <td>2</td>\n",
       "      <td>1</td>\n",
       "    </tr>\n",
       "    <tr>\n",
       "      <th>3</th>\n",
       "      <td>3</td>\n",
       "      <td>1</td>\n",
       "    </tr>\n",
       "    <tr>\n",
       "      <th>4</th>\n",
       "      <td>4</td>\n",
       "      <td>1</td>\n",
       "    </tr>\n",
       "  </tbody>\n",
       "</table>\n",
       "</div>"
      ],
      "text/plain": [
       "   id  predictions\n",
       "0   0            1\n",
       "1   1            1\n",
       "2   2            1\n",
       "3   3            1\n",
       "4   4            1"
      ]
     },
     "execution_count": 195,
     "metadata": {},
     "output_type": "execute_result"
    }
   ],
   "source": [
    "df = pd.read_json(\"/Users/ccreanga/projects/machine-generated_text_detection/final_predictions/SubtaskA/multilingual/subtask_a_multilingual.jsonl\", lines=True)\n",
    "df.columns=[\"id\", \"predictions\"]\n",
    "df.head()\n"
   ]
  },
  {
   "cell_type": "code",
   "execution_count": 191,
   "id": "1bb90ef6-be3f-4b85-bd73-cfdf9712dc57",
   "metadata": {},
   "outputs": [
    {
     "data": {
      "text/plain": [
       "label\n",
       "1    30764\n",
       "0    11614\n",
       "Name: count, dtype: int64"
      ]
     },
     "execution_count": 191,
     "metadata": {},
     "output_type": "execute_result"
    }
   ],
   "source": [
    "df.label.value_counts()\n"
   ]
  },
  {
   "cell_type": "code",
   "execution_count": 207,
   "id": "9515a786-4c6a-42d1-bd4b-278cfbe2a3e2",
   "metadata": {},
   "outputs": [
    {
     "name": "stderr",
     "output_type": "stream",
     "text": [
      "/Users/ccreanga/miniconda/envs/ml10/lib/python3.10/site-packages/tqdm/auto.py:21: TqdmWarning: IProgress not found. Please update jupyter and ipywidgets. See https://ipywidgets.readthedocs.io/en/stable/user_install.html\n",
      "  from .autonotebook import tqdm as notebook_tqdm\n"
     ]
    }
   ],
   "source": [
    "import torch\n",
    "from transformers import DistilBertTokenizer\n",
    "tokenizer = DistilBertTokenizer.from_pretrained(\"distilbert-base-multilingual-cased\")"
   ]
  },
  {
   "cell_type": "code",
   "execution_count": 208,
   "id": "db6c1430-55d3-49e2-8f22-d80ba2d02607",
   "metadata": {},
   "outputs": [
    {
     "name": "stderr",
     "output_type": "stream",
     "text": [
      "Token indices sequence length is longer than the specified maximum sequence length for this model (1042 > 512). Running this sequence through the model will result in indexing errors\n"
     ]
    },
    {
     "data": {
      "text/html": [
       "<div>\n",
       "<style scoped>\n",
       "    .dataframe tbody tr th:only-of-type {\n",
       "        vertical-align: middle;\n",
       "    }\n",
       "\n",
       "    .dataframe tbody tr th {\n",
       "        vertical-align: top;\n",
       "    }\n",
       "\n",
       "    .dataframe thead th {\n",
       "        text-align: right;\n",
       "    }\n",
       "</style>\n",
       "<table border=\"1\" class=\"dataframe\">\n",
       "  <thead>\n",
       "    <tr style=\"text-align: right;\">\n",
       "      <th></th>\n",
       "      <th>text</th>\n",
       "      <th>label</th>\n",
       "      <th>model</th>\n",
       "      <th>domain</th>\n",
       "      <th>id</th>\n",
       "      <th>size</th>\n",
       "    </tr>\n",
       "  </thead>\n",
       "  <tbody>\n",
       "    <tr>\n",
       "      <th>0</th>\n",
       "      <td>In today's world, there are more ways to commu...</td>\n",
       "      <td>0</td>\n",
       "      <td>human</td>\n",
       "      <td>outfox</td>\n",
       "      <td>0</td>\n",
       "      <td>[101, 10167, 18745, 112, 187, 11356, 117, 1115...</td>\n",
       "    </tr>\n",
       "    <tr>\n",
       "      <th>1</th>\n",
       "      <td>Das Konzept der Primärversorgung soll in Zukun...</td>\n",
       "      <td>1</td>\n",
       "      <td>chatGPT</td>\n",
       "      <td>german</td>\n",
       "      <td>1</td>\n",
       "      <td>[101, 10672, 57716, 10118, 30797, 44193, 40252...</td>\n",
       "    </tr>\n",
       "    <tr>\n",
       "      <th>2</th>\n",
       "      <td>Driverless vehicles have been around for many ...</td>\n",
       "      <td>1</td>\n",
       "      <td>bloomz</td>\n",
       "      <td>outfox</td>\n",
       "      <td>2</td>\n",
       "      <td>[101, 55695, 14985, 27237, 10529, 10590, 12166...</td>\n",
       "    </tr>\n",
       "    <tr>\n",
       "      <th>3</th>\n",
       "      <td>The current electoral college process used for...</td>\n",
       "      <td>1</td>\n",
       "      <td>davinci</td>\n",
       "      <td>outfox</td>\n",
       "      <td>3</td>\n",
       "      <td>[101, 10117, 14978, 29125, 16083, 15138, 11031...</td>\n",
       "    </tr>\n",
       "    <tr>\n",
       "      <th>4</th>\n",
       "      <td>يعتبر خبير التغذية الألماني أوفه كنوب أن رائحة...</td>\n",
       "      <td>1</td>\n",
       "      <td>chatGPT</td>\n",
       "      <td>arabic</td>\n",
       "      <td>4</td>\n",
       "      <td>[101, 50748, 770, 22908, 10673, 59901, 10502, ...</td>\n",
       "    </tr>\n",
       "  </tbody>\n",
       "</table>\n",
       "</div>"
      ],
      "text/plain": [
       "                                                text  label    model  domain  \\\n",
       "0  In today's world, there are more ways to commu...      0    human  outfox   \n",
       "1  Das Konzept der Primärversorgung soll in Zukun...      1  chatGPT  german   \n",
       "2  Driverless vehicles have been around for many ...      1   bloomz  outfox   \n",
       "3  The current electoral college process used for...      1  davinci  outfox   \n",
       "4  يعتبر خبير التغذية الألماني أوفه كنوب أن رائحة...      1  chatGPT  arabic   \n",
       "\n",
       "   id                                               size  \n",
       "0   0  [101, 10167, 18745, 112, 187, 11356, 117, 1115...  \n",
       "1   1  [101, 10672, 57716, 10118, 30797, 44193, 40252...  \n",
       "2   2  [101, 55695, 14985, 27237, 10529, 10590, 12166...  \n",
       "3   3  [101, 10117, 14978, 29125, 16083, 15138, 11031...  \n",
       "4   4  [101, 50748, 770, 22908, 10673, 59901, 10502, ...  "
      ]
     },
     "execution_count": 208,
     "metadata": {},
     "output_type": "execute_result"
    }
   ],
   "source": [
    "df1 = pd.read_json(\"/Users/ccreanga/projects/machine-generated_text_detection/data/combined_data/SubtaskA/subtaskA_multilingual.jsonl\",  lines=True)\n",
    "df1[\"id\"] = df1.index\n",
    "df1.head()"
   ]
  },
  {
   "cell_type": "code",
   "execution_count": 210,
   "id": "473ebaad-2f9f-4eb9-988c-0ab25970de39",
   "metadata": {},
   "outputs": [
    {
     "data": {
      "text/plain": [
       "<bound method DataFrame.count of                                                     text  label  \\\n",
       "0      In today's world, there are more ways to commu...      0   \n",
       "1      Das Konzept der Primärversorgung soll in Zukun...      1   \n",
       "2      Driverless vehicles have been around for many ...      1   \n",
       "3      The current electoral college process used for...      1   \n",
       "4      يعتبر خبير التغذية الألماني أوفه كنوب أن رائحة...      1   \n",
       "...                                                  ...    ...   \n",
       "42373  Have you ever thought about purchasing a drive...      0   \n",
       "42374  Cars are most the most used machine for transp...      0   \n",
       "42375  In the article \"Making Mona Lisa Smile\", the a...      0   \n",
       "42376  Un sogno che si avvera. Due donne, separate in...      0   \n",
       "42377  In der Sprache findet gerade ein erbitterter K...      1   \n",
       "\n",
       "                   model   domain     id  \\\n",
       "0                  human   outfox      0   \n",
       "1                chatGPT   german      1   \n",
       "2                 bloomz   outfox      2   \n",
       "3                davinci   outfox      3   \n",
       "4                chatGPT   arabic      4   \n",
       "...                  ...      ...    ...   \n",
       "42373              human   outfox  42373   \n",
       "42374              human   outfox  42374   \n",
       "42375              human   outfox  42375   \n",
       "42376  llama2-fine-tuned  italian  42376   \n",
       "42377            chatGPT   german  42377   \n",
       "\n",
       "                                                    size  count  \n",
       "0      [101, 10167, 18745, 112, 187, 11356, 117, 1115...   1042  \n",
       "1      [101, 10672, 57716, 10118, 30797, 44193, 40252...    546  \n",
       "2      [101, 55695, 14985, 27237, 10529, 10590, 12166...    240  \n",
       "3      [101, 10117, 14978, 29125, 16083, 15138, 11031...    515  \n",
       "4      [101, 50748, 770, 22908, 10673, 59901, 10502, ...    176  \n",
       "...                                                  ...    ...  \n",
       "42373  [101, 24852, 13028, 17038, 18957, 10978, 32385...    391  \n",
       "42374  [101, 54203, 10301, 10992, 10105, 10992, 11031...    393  \n",
       "42375  [101, 10167, 10105, 13262, 107, 26842, 47894, ...    309  \n",
       "42376  [101, 11038, 107327, 10262, 10294, 10170, 4591...    336  \n",
       "42377  [101, 10167, 10118, 24198, 21904, 43234, 10290...    465  \n",
       "\n",
       "[42378 rows x 7 columns]>"
      ]
     },
     "execution_count": 210,
     "metadata": {},
     "output_type": "execute_result"
    }
   ],
   "source": [
    "df1[\"count\"] = df1[\"size\"].apply(lambda x: len(x))\n",
    "df1.count"
   ]
  },
  {
   "cell_type": "code",
   "execution_count": 209,
   "id": "a341ffa7-2603-4e9b-b2d6-42ac098b0541",
   "metadata": {},
   "outputs": [
    {
     "data": {
      "text/plain": [
       "label\n",
       "1    22140\n",
       "0    20238\n",
       "Name: count, dtype: int64"
      ]
     },
     "execution_count": 209,
     "metadata": {},
     "output_type": "execute_result"
    }
   ],
   "source": [
    "df1.label.value_counts()"
   ]
  },
  {
   "cell_type": "code",
   "execution_count": 199,
   "id": "192a7239-2648-46ba-bbd0-911dfa4f5be6",
   "metadata": {},
   "outputs": [
    {
     "data": {
      "image/png": "[encoded data removed]",
      "text/plain": [
       "<Figure size 1000x600 with 1 Axes>"
      ]
     },
     "metadata": {},
     "output_type": "display_data"
    }
   ],
   "source": [
    "merged_df = pd.merge(df, df1, on='id')\n",
    "\n",
    "# Calculate accuracy for each domain\n",
    "domain_accuracy = merged_df.groupby('domain').apply(lambda x: (x['label'] == x['predictions']).mean())\n",
    "\n",
    "# Plotting\n",
    "plt.figure(figsize=(10, 6))\n",
    "domain_accuracy.plot(kind='bar', color='skyblue')\n",
    "plt.title('Accuracy by Domain')\n",
    "plt.xlabel('Domain')\n",
    "plt.ylabel('Accuracy')\n",
    "plt.xticks(rotation=45)  # Rotate domain names for better readability\n",
    "plt.show()"
   ]
  },
  {
   "cell_type": "code",
   "execution_count": 285,
   "id": "e8f2edcf-9afb-4d27-83f5-6c6eaf617400",
   "metadata": {},
   "outputs": [
    {
     "data": {
      "image/png": "[encoded data removed]",
      "text/plain": [
       "<Figure size 1000x600 with 1 Axes>"
      ]
     },
     "metadata": {},
     "output_type": "display_data"
    }
   ],
   "source": [
    "# Calculate accuracy for each domain\n",
    "domain_accuracy = merged_df_mono.groupby('model').apply(lambda x: (x['label'] == x['predictions']).mean())\n",
    "\n",
    "# Plotting\n",
    "plt.figure(figsize=(10, 6))\n",
    "domain_accuracy.plot(kind='bar', color='skyblue')\n",
    "plt.title('Accuracy by Domain')\n",
    "plt.xlabel('Domain')\n",
    "plt.ylabel('Accuracy')\n",
    "plt.xticks(rotation=45)  # Rotate domain names for better readability\n",
    "plt.show()"
   ]
  },
  {
   "cell_type": "code",
   "execution_count": 214,
   "id": "5d0bd446-ea29-4051-bf14-8100ee8e7770",
   "metadata": {},
   "outputs": [
    {
     "name": "stderr",
     "output_type": "stream",
     "text": [
      "/var/folders/3c/1ts460nx6f9b6c23_b03v2xm0000gs/T/ipykernel_87095/2257726978.py:7: FutureWarning: The default of observed=False is deprecated and will be changed to True in a future version of pandas. Pass observed=False to retain current behavior or observed=True to adopt the future default and silence this warning.\n",
      "  size_bin_accuracy = merged_df.groupby('size_bin').apply(lambda x: (x['label'] == x['predictions']).mean())\n"
     ]
    },
    {
     "data": {
      "image/png": "[encoded data removed]",
      "text/plain": [
       "<Figure size 1000x600 with 1 Axes>"
      ]
     },
     "metadata": {},
     "output_type": "display_data"
    }
   ],
   "source": [
    "merged_df = pd.merge(df, df1, on='id')\n",
    "\n",
    "# Create bins for the 'size' column\n",
    "merged_df['size_bin'] = pd.cut(merged_df['count'], bins=range(0, merged_df['count'].max() + 100, 500), right=False)\n",
    "\n",
    "# Calculate accuracy for each size bin\n",
    "size_bin_accuracy = merged_df.groupby('size_bin').apply(lambda x: (x['label'] == x['predictions']).mean())\n",
    "\n",
    "# Plotting\n",
    "plt.figure(figsize=(10, 6))\n",
    "size_bin_accuracy.plot(kind='bar', color='skyblue')\n",
    "plt.title('Accuracy by Size Bin')\n",
    "plt.xlabel('Size Bin')\n",
    "plt.ylabel('Accuracy')\n",
    "plt.xticks(rotation=45)  # Rotate size bin labels for better readability\n",
    "plt.show()"
   ]
  },
  {
   "cell_type": "code",
   "execution_count": 228,
   "id": "f912e523-df49-4d43-9ab5-8ea3f263a06f",
   "metadata": {},
   "outputs": [
    {
     "name": "stdout",
     "output_type": "stream",
     "text": [
      "[0, 100, 200, 300, 400, 500, 600, 700, 800, 900, 1000, 1100, 1200, 1300, 1400, 1500, 1600, 1700, 1800, 1900, 2000, 2100, 2200, 2300, 2400, 2500, 2600, 2700, 2800, 2900]\n"
     ]
    },
    {
     "name": "stderr",
     "output_type": "stream",
     "text": [
      "/var/folders/3c/1ts460nx6f9b6c23_b03v2xm0000gs/T/ipykernel_87095/869803129.py:5: FutureWarning: The default of observed=False is deprecated and will be changed to True in a future version of pandas. Pass observed=False to retain current behavior or observed=True to adopt the future default and silence this warning.\n",
      "  size_bin_accuracy = merged_df.groupby('size_bin').apply(lambda x: (x['label'] == x['predictions']).mean())\n"
     ]
    },
    {
     "data": {
      "image/png": "[encoded data removed]",
      "text/plain": [
       "<Figure size 1000x600 with 1 Axes>"
      ]
     },
     "metadata": {},
     "output_type": "display_data"
    }
   ],
   "source": [
    "merged_df['count_max'] = merged_df['count'].apply(lambda x: min(x, 3000))\n",
    "merged_df['size_bin'] = pd.cut(merged_df['count_max'], bins=range(0, merged_df['count_max'].max() + 100, 100), right=False)\n",
    "\n",
    "# Calculate accuracy for each size bin\n",
    "size_bin_accuracy = merged_df.groupby('size_bin').apply(lambda x: (x['label'] == x['predictions']).mean())\n",
    "size_bin_labels = [int(interval.left) for interval in size_bin_accuracy.index]\n",
    "print(size_bin_labels)\n",
    "# Plotting accuracy by size bin using a line plot\n",
    "plt.figure(figsize=(10, 6))\n",
    "plt.plot(size_bin_labels, size_bin_accuracy, color='skyblue',  linestyle='-')\n",
    "\n",
    "# size_bin_accuracy.plot(kind='line', color='skyblue')\n",
    "plt.title('Accuracy by token length')\n",
    "plt.xlabel('Text length by number of tokens')\n",
    "plt.ylabel('Accuracy')\n",
    "plt.xticks([0, 500, 1000, 1500, 2000, 2500, 3000])  # Set x-axis ticks to the lower bounds of the size bins\n",
    "# plt.xticks(rotation=45)  # Rotate size bin labels for better readability\n",
    "plt.grid(True)\n",
    "plt.show()"
   ]
  },
  {
   "cell_type": "code",
   "execution_count": 270,
   "id": "9ffaaf82-1f03-4503-bfc9-a31905ec7301",
   "metadata": {},
   "outputs": [
    {
     "data": {
      "text/html": [
       "<div>\n",
       "<style scoped>\n",
       "    .dataframe tbody tr th:only-of-type {\n",
       "        vertical-align: middle;\n",
       "    }\n",
       "\n",
       "    .dataframe tbody tr th {\n",
       "        vertical-align: top;\n",
       "    }\n",
       "\n",
       "    .dataframe thead th {\n",
       "        text-align: right;\n",
       "    }\n",
       "</style>\n",
       "<table border=\"1\" class=\"dataframe\">\n",
       "  <thead>\n",
       "    <tr style=\"text-align: right;\">\n",
       "      <th></th>\n",
       "      <th>text</th>\n",
       "      <th>label</th>\n",
       "      <th>id</th>\n",
       "      <th>model</th>\n",
       "      <th>domain</th>\n",
       "    </tr>\n",
       "  </thead>\n",
       "  <tbody>\n",
       "    <tr>\n",
       "      <th>0</th>\n",
       "      <td>Today, many adults or teenage drivers are hook...</td>\n",
       "      <td>0</td>\n",
       "      <td>0</td>\n",
       "      <td>human</td>\n",
       "      <td>outfox</td>\n",
       "    </tr>\n",
       "    <tr>\n",
       "      <th>1</th>\n",
       "      <td>The automobile, since its advent, has revoluti...</td>\n",
       "      <td>1</td>\n",
       "      <td>1</td>\n",
       "      <td>GPT4</td>\n",
       "      <td>outfox</td>\n",
       "    </tr>\n",
       "    <tr>\n",
       "      <th>2</th>\n",
       "      <td>One policy that could potentially improve aca...</td>\n",
       "      <td>1</td>\n",
       "      <td>2</td>\n",
       "      <td>cohere</td>\n",
       "      <td>outfox</td>\n",
       "    </tr>\n",
       "    <tr>\n",
       "      <th>3</th>\n",
       "      <td>Title: Navigating the Road Ahead: The Case for...</td>\n",
       "      <td>1</td>\n",
       "      <td>3</td>\n",
       "      <td>GPT4</td>\n",
       "      <td>outfox</td>\n",
       "    </tr>\n",
       "    <tr>\n",
       "      <th>4</th>\n",
       "      <td>Have you ever woken up in the morning and wish...</td>\n",
       "      <td>0</td>\n",
       "      <td>4</td>\n",
       "      <td>human</td>\n",
       "      <td>outfox</td>\n",
       "    </tr>\n",
       "  </tbody>\n",
       "</table>\n",
       "</div>"
      ],
      "text/plain": [
       "                                                text  label  id   model  \\\n",
       "0  Today, many adults or teenage drivers are hook...      0   0   human   \n",
       "1  The automobile, since its advent, has revoluti...      1   1    GPT4   \n",
       "2   One policy that could potentially improve aca...      1   2  cohere   \n",
       "3  Title: Navigating the Road Ahead: The Case for...      1   3    GPT4   \n",
       "4  Have you ever woken up in the morning and wish...      0   4   human   \n",
       "\n",
       "   domain  \n",
       "0  outfox  \n",
       "1  outfox  \n",
       "2  outfox  \n",
       "3  outfox  \n",
       "4  outfox  "
      ]
     },
     "execution_count": 270,
     "metadata": {},
     "output_type": "execute_result"
    }
   ],
   "source": [
    "df_mono = pd.read_json(\"/Users/ccreanga/projects/machine-generated_text_detection/data/combined_data/SubtaskA/subtaskA_monolingual.jsonl\",  lines=True)\n",
    "df_mono[\"id\"] = df_mono.index\n",
    "df_mono.head()"
   ]
  },
  {
   "cell_type": "code",
   "execution_count": 271,
   "id": "5c2100f5-91a1-4cbd-908d-531999afaf8f",
   "metadata": {},
   "outputs": [
    {
     "data": {
      "text/html": [
       "<div>\n",
       "<style scoped>\n",
       "    .dataframe tbody tr th:only-of-type {\n",
       "        vertical-align: middle;\n",
       "    }\n",
       "\n",
       "    .dataframe tbody tr th {\n",
       "        vertical-align: top;\n",
       "    }\n",
       "\n",
       "    .dataframe thead th {\n",
       "        text-align: right;\n",
       "    }\n",
       "</style>\n",
       "<table border=\"1\" class=\"dataframe\">\n",
       "  <thead>\n",
       "    <tr style=\"text-align: right;\">\n",
       "      <th></th>\n",
       "      <th>text</th>\n",
       "      <th>label</th>\n",
       "      <th>model</th>\n",
       "      <th>domain</th>\n",
       "      <th>id</th>\n",
       "    </tr>\n",
       "  </thead>\n",
       "  <tbody>\n",
       "    <tr>\n",
       "      <th>0</th>\n",
       "      <td>In today's world, there are more ways to commu...</td>\n",
       "      <td>0</td>\n",
       "      <td>human</td>\n",
       "      <td>outfox</td>\n",
       "      <td>0</td>\n",
       "    </tr>\n",
       "    <tr>\n",
       "      <th>1</th>\n",
       "      <td>Das Konzept der Primärversorgung soll in Zukun...</td>\n",
       "      <td>1</td>\n",
       "      <td>chatGPT</td>\n",
       "      <td>german</td>\n",
       "      <td>1</td>\n",
       "    </tr>\n",
       "    <tr>\n",
       "      <th>2</th>\n",
       "      <td>Driverless vehicles have been around for many ...</td>\n",
       "      <td>1</td>\n",
       "      <td>bloomz</td>\n",
       "      <td>outfox</td>\n",
       "      <td>2</td>\n",
       "    </tr>\n",
       "    <tr>\n",
       "      <th>3</th>\n",
       "      <td>The current electoral college process used for...</td>\n",
       "      <td>1</td>\n",
       "      <td>davinci</td>\n",
       "      <td>outfox</td>\n",
       "      <td>3</td>\n",
       "    </tr>\n",
       "    <tr>\n",
       "      <th>4</th>\n",
       "      <td>يعتبر خبير التغذية الألماني أوفه كنوب أن رائحة...</td>\n",
       "      <td>1</td>\n",
       "      <td>chatGPT</td>\n",
       "      <td>arabic</td>\n",
       "      <td>4</td>\n",
       "    </tr>\n",
       "  </tbody>\n",
       "</table>\n",
       "</div>"
      ],
      "text/plain": [
       "                                                text  label    model  domain  \\\n",
       "0  In today's world, there are more ways to commu...      0    human  outfox   \n",
       "1  Das Konzept der Primärversorgung soll in Zukun...      1  chatGPT  german   \n",
       "2  Driverless vehicles have been around for many ...      1   bloomz  outfox   \n",
       "3  The current electoral college process used for...      1  davinci  outfox   \n",
       "4  يعتبر خبير التغذية الألماني أوفه كنوب أن رائحة...      1  chatGPT  arabic   \n",
       "\n",
       "   id  \n",
       "0   0  \n",
       "1   1  \n",
       "2   2  \n",
       "3   3  \n",
       "4   4  "
      ]
     },
     "execution_count": 271,
     "metadata": {},
     "output_type": "execute_result"
    }
   ],
   "source": [
    "df_multi = pd.read_json(\"/Users/ccreanga/projects/machine-generated_text_detection/data/combined_data/SubtaskA/subtaskA_multilingual.jsonl\",  lines=True)\n",
    "df_multi[\"id\"] = df_multi.index\n",
    "df_multi.head()"
   ]
  },
  {
   "cell_type": "code",
   "execution_count": 273,
   "id": "b5e43a17-f36b-4f1e-8c14-3eafe992370a",
   "metadata": {},
   "outputs": [
    {
     "data": {
      "text/html": [
       "<div>\n",
       "<style scoped>\n",
       "    .dataframe tbody tr th:only-of-type {\n",
       "        vertical-align: middle;\n",
       "    }\n",
       "\n",
       "    .dataframe tbody tr th {\n",
       "        vertical-align: top;\n",
       "    }\n",
       "\n",
       "    .dataframe thead th {\n",
       "        text-align: right;\n",
       "    }\n",
       "</style>\n",
       "<table border=\"1\" class=\"dataframe\">\n",
       "  <thead>\n",
       "    <tr style=\"text-align: right;\">\n",
       "      <th></th>\n",
       "      <th>id</th>\n",
       "      <th>predictions</th>\n",
       "    </tr>\n",
       "  </thead>\n",
       "  <tbody>\n",
       "    <tr>\n",
       "      <th>0</th>\n",
       "      <td>0</td>\n",
       "      <td>1</td>\n",
       "    </tr>\n",
       "    <tr>\n",
       "      <th>1</th>\n",
       "      <td>1</td>\n",
       "      <td>1</td>\n",
       "    </tr>\n",
       "    <tr>\n",
       "      <th>2</th>\n",
       "      <td>2</td>\n",
       "      <td>1</td>\n",
       "    </tr>\n",
       "    <tr>\n",
       "      <th>3</th>\n",
       "      <td>3</td>\n",
       "      <td>1</td>\n",
       "    </tr>\n",
       "    <tr>\n",
       "      <th>4</th>\n",
       "      <td>4</td>\n",
       "      <td>1</td>\n",
       "    </tr>\n",
       "  </tbody>\n",
       "</table>\n",
       "</div>"
      ],
      "text/plain": [
       "   id  predictions\n",
       "0   0            1\n",
       "1   1            1\n",
       "2   2            1\n",
       "3   3            1\n",
       "4   4            1"
      ]
     },
     "execution_count": 273,
     "metadata": {},
     "output_type": "execute_result"
    }
   ],
   "source": [
    "df = pd.read_json(\"/Users/ccreanga/projects/machine-generated_text_detection/final_predictions/SubtaskA/multilingual/subtask_a_multilingual.jsonl\", lines=True)\n",
    "df.columns=[\"id\", \"predictions\"]\n",
    "df.head()\n",
    "df2 = pd.read_json(\"/Users/ccreanga/projects/machine-generated_text_detection/final_predictions/SubtaskA/multilingual/subtask_a_monolingual.jsonl\", lines=True)\n",
    "df2.columns=[\"id\", \"predictions\"]\n",
    "df2.head()\n"
   ]
  },
  {
   "cell_type": "code",
   "execution_count": 274,
   "id": "8005a3e8-1a86-460f-baa7-aeae4ce2719d",
   "metadata": {},
   "outputs": [],
   "source": [
    "\n",
    "merged_df_mono = pd.merge(df_mono, df2, on='id')\n",
    "merged_df_multi = pd.merge(df_multi, df, on='id')\n"
   ]
  },
  {
   "cell_type": "code",
   "execution_count": 284,
   "id": "47e7ecb3-3603-49c1-949b-73738b07212c",
   "metadata": {},
   "outputs": [
    {
     "data": {
      "image/png": "[encoded data removed]",
      "text/plain": [
       "<Figure size 1000x600 with 1 Axes>"
      ]
     },
     "metadata": {},
     "output_type": "display_data"
    }
   ],
   "source": [
    "\n",
    "# Calculate accuracy for each domain\n",
    "model_accuracy_df1 = merged_df_mono.groupby('model').apply(lambda x: (x['label'] == x['predictions']).mean()).reset_index(name='accuracy_df1')\n",
    "\n",
    "model_accuracy_df2 = merged_df_multi.groupby('model').apply(lambda x: (x['label'] == x['predictions']).mean()).reset_index(name='accuracy_df2')\n",
    "\n",
    "# Merging the accuracy dataframes for grouped plotting\n",
    "merged_accuracy = pd.merge(model_accuracy_df1, model_accuracy_df2, on='model', how=\"outer\")\n",
    "\n",
    "# Plotting\n",
    "plt.figure(figsize=(10, 6))\n",
    "bar_width = 0.3\n",
    "index = np.arange(len(merged_accuracy['model']))\n",
    "\n",
    "plt.bar(index, merged_accuracy['accuracy_df1'], bar_width, label='Monolingual', color='skyblue', alpha=0.6)\n",
    "plt.bar(index + bar_width, merged_accuracy['accuracy_df2'], bar_width, label='Multilingual', color='orange', alpha=0.6)\n",
    "\n",
    "plt.xlabel('Model')\n",
    "plt.ylabel('Accuracy')\n",
    "plt.title('Accuracy by Model for Monolingual and Multilingual')\n",
    "plt.xticks(index + bar_width / 2, merged_accuracy['model'], rotation=45)\n",
    "plt.legend()\n",
    "\n",
    "plt.tight_layout()\n",
    "plt.show()"
   ]
  },
  {
   "cell_type": "code",
   "execution_count": null,
   "id": "8c855275-29e8-4fba-b24e-7533bff2511e",
   "metadata": {},
   "outputs": [],
   "source": []
  },
  {
   "cell_type": "code",
   "execution_count": 287,
   "id": "d52c63e0-6c25-457d-bb80-c4bb15a0e44c",
   "metadata": {},
   "outputs": [],
   "source": [
    "merged_df_mono[\"tokens\"] = merged_df_mono[\"text\"].apply(lambda x: tokenizer.encode(x))\n",
    "merged_df_multi[\"tokens\"] = merged_df_multi[\"text\"].apply(lambda x: tokenizer.encode(x))"
   ]
  },
  {
   "cell_type": "code",
   "execution_count": 296,
   "id": "bb377cc8-e1ec-4386-abea-464bc5d916b7",
   "metadata": {},
   "outputs": [],
   "source": [
    "merged_df_mono[\"count\"] = merged_df_mono[\"tokens\"].apply(lambda x: len(x))\n",
    "merged_df_multi[\"count\"] = merged_df_multi[\"tokens\"].apply(lambda x: len(x))"
   ]
  },
  {
   "cell_type": "code",
   "execution_count": 297,
   "id": "dabbeb2e-2fab-475a-9d26-6d5748ee8f9e",
   "metadata": {},
   "outputs": [],
   "source": [
    "merged_df_mono['count_max'] = merged_df_mono['count'].apply(lambda x: min(x, 3000))\n",
    "merged_df_multi['count_max'] = merged_df_multi['count'].apply(lambda x: min(x, 3000))"
   ]
  },
  {
   "cell_type": "code",
   "execution_count": null,
   "id": "1b8dd6ac-14b7-4600-bfa6-1e693554ec6c",
   "metadata": {},
   "outputs": [],
   "source": [
    "merged_df['count_max'] = merged_df['count'].apply(lambda x: min(x, 3000))\n",
    "merged_df['size_bin'] = pd.cut(merged_df['count_max'], bins=range(0, merged_df['count_max'].max() + 100, 100), right=False)\n",
    "\n",
    "# Calculate accuracy for each size bin\n",
    "size_bin_accuracy = merged_df.groupby('size_bin').apply(lambda x: (x['label'] == x['predictions']).mean())\n",
    "size_bin_labels = [int(interval.left) for interval in size_bin_accuracy.index]\n",
    "print(size_bin_labels)\n",
    "# Plotting accuracy by size bin using a line plot\n",
    "plt.figure(figsize=(10, 6))\n",
    "plt.plot(size_bin_labels, size_bin_accuracy, color='skyblue',  linestyle='-')\n",
    "\n",
    "# size_bin_accuracy.plot(kind='line', color='skyblue')\n",
    "plt.title('Accuracy by token length')\n",
    "plt.xlabel('Text length by number of tokens')\n",
    "plt.ylabel('Accuracy')\n",
    "plt.xticks([0, 500, 1000, 1500, 2000, 2500, 3000])  # Set x-axis ticks to the lower bounds of the size bins\n",
    "# plt.xticks(rotation=45)  # Rotate size bin labels for better readability\n",
    "plt.grid(True)\n",
    "plt.show()"
   ]
  },
  {
   "cell_type": "code",
   "execution_count": 299,
   "id": "63102c7c-a946-43b5-8d2e-15cbea9c8b8f",
   "metadata": {},
   "outputs": [
    {
     "name": "stderr",
     "output_type": "stream",
     "text": [
      "/var/folders/3c/1ts460nx6f9b6c23_b03v2xm0000gs/T/ipykernel_87095/2640745669.py:5: FutureWarning: The default of observed=False is deprecated and will be changed to True in a future version of pandas. Pass observed=False to retain current behavior or observed=True to adopt the future default and silence this warning.\n",
      "  size_bin_accuracy_df1 = merged_df_mono.groupby('size_bin').apply(lambda x: (x['label'] == x['predictions']).mean())\n",
      "/var/folders/3c/1ts460nx6f9b6c23_b03v2xm0000gs/T/ipykernel_87095/2640745669.py:6: FutureWarning: The default of observed=False is deprecated and will be changed to True in a future version of pandas. Pass observed=False to retain current behavior or observed=True to adopt the future default and silence this warning.\n",
      "  size_bin_accuracy_df2 = merged_df_multi.groupby('size_bin').apply(lambda x: (x['label'] == x['predictions']).mean())\n"
     ]
    },
    {
     "data": {
      "image/png": "[encoded data removed]",
      "text/plain": [
       "<Figure size 1000x600 with 1 Axes>"
      ]
     },
     "metadata": {},
     "output_type": "display_data"
    }
   ],
   "source": [
    "merged_df_mono['size_bin'] = pd.cut(merged_df_mono['count_max'], bins=range(0,merged_df_mono['count_max'].max() + 100, 100), right=False)\n",
    "merged_df_multi['size_bin'] = pd.cut(merged_df_multi['count_max'], bins=range(0, merged_df_multi['count_max'].max() + 100, 100), right=False)\n",
    "\n",
    "# Calculate accuracy for each size bin for both dataframes\n",
    "size_bin_accuracy_df1 = merged_df_mono.groupby('size_bin').apply(lambda x: (x['label'] == x['predictions']).mean())\n",
    "size_bin_accuracy_df2 = merged_df_multi.groupby('size_bin').apply(lambda x: (x['label'] == x['predictions']).mean())\n",
    "\n",
    "# Extract the lower bound of the size bins to use as x-axis labels\n",
    "size_bin_labels_df1 = [int(interval.left) for interval in size_bin_accuracy_df1.index]\n",
    "size_bin_labels_df2 = [int(interval.left) for interval in size_bin_accuracy_df2.index]\n",
    "\n",
    "# Plotting accuracy by size bin using a line plot for both dataframes\n",
    "plt.figure(figsize=(10, 6))\n",
    "plt.plot(size_bin_labels_df1, size_bin_accuracy_df1, color='skyblue', linestyle='-', label='Monolingual')\n",
    "plt.plot(size_bin_labels_df2, size_bin_accuracy_df2, color='orange', linestyle='-', label='Multilingual')\n",
    "\n",
    "plt.title('Accuracy by Token Length for Two Dataframes')\n",
    "plt.xlabel('Text Length by Number of Tokens')\n",
    "plt.ylabel('Accuracy')\n",
    "plt.xticks([0, 500, 1000, 1500, 2000, 2500, 3000])  # Set x-axis ticks to the lower bounds of the size bins\n",
    "plt.legend()\n",
    "plt.grid(True)\n",
    "plt.show()"
   ]
  },
  {
   "cell_type": "code",
   "execution_count": 300,
   "id": "0a9e4188-5bfa-4cd8-b72a-e508eb968e06",
   "metadata": {},
   "outputs": [
    {
     "data": {
      "text/plain": [
       "predictions\n",
       "1    23043\n",
       "0    11229\n",
       "Name: count, dtype: int64"
      ]
     },
     "execution_count": 300,
     "metadata": {},
     "output_type": "execute_result"
    }
   ],
   "source": [
    "merged_df_mono.predictions.value_counts()"
   ]
  },
  {
   "cell_type": "code",
   "execution_count": 302,
   "id": "20d14c30-968d-4f36-b005-d1e7587ba2e1",
   "metadata": {},
   "outputs": [
    {
     "data": {
      "text/plain": [
       "label\n",
       "1    18000\n",
       "0    16272\n",
       "Name: count, dtype: int64"
      ]
     },
     "execution_count": 302,
     "metadata": {},
     "output_type": "execute_result"
    }
   ],
   "source": [
    "merged_df_mono.label.value_counts()"
   ]
  },
  {
   "cell_type": "code",
   "execution_count": 376,
   "id": "8412fc9a-13b3-46f7-a04f-fa920470a4f5",
   "metadata": {},
   "outputs": [
    {
     "data": {
      "text/html": [
       "<div>\n",
       "<style scoped>\n",
       "    .dataframe tbody tr th:only-of-type {\n",
       "        vertical-align: middle;\n",
       "    }\n",
       "\n",
       "    .dataframe tbody tr th {\n",
       "        vertical-align: top;\n",
       "    }\n",
       "\n",
       "    .dataframe thead th {\n",
       "        text-align: right;\n",
       "    }\n",
       "</style>\n",
       "<table border=\"1\" class=\"dataframe\">\n",
       "  <thead>\n",
       "    <tr style=\"text-align: right;\">\n",
       "      <th></th>\n",
       "      <th>text</th>\n",
       "      <th>label</th>\n",
       "      <th>model</th>\n",
       "      <th>id</th>\n",
       "    </tr>\n",
       "  </thead>\n",
       "  <tbody>\n",
       "    <tr>\n",
       "      <th>0</th>\n",
       "      <td>Decision-making is one of life's most difficul...</td>\n",
       "      <td>4</td>\n",
       "      <td>bloomz</td>\n",
       "      <td>0</td>\n",
       "    </tr>\n",
       "    <tr>\n",
       "      <th>1</th>\n",
       "      <td>When you think of voting for president, do you...</td>\n",
       "      <td>0</td>\n",
       "      <td>human</td>\n",
       "      <td>1</td>\n",
       "    </tr>\n",
       "    <tr>\n",
       "      <th>2</th>\n",
       "      <td>Driverless Cars - Limitations &amp; Potential Draw...</td>\n",
       "      <td>4</td>\n",
       "      <td>bloomz</td>\n",
       "      <td>2</td>\n",
       "    </tr>\n",
       "    <tr>\n",
       "      <th>3</th>\n",
       "      <td>There are multiple benefits to attending high ...</td>\n",
       "      <td>5</td>\n",
       "      <td>dolly</td>\n",
       "      <td>3</td>\n",
       "    </tr>\n",
       "    <tr>\n",
       "      <th>4</th>\n",
       "      <td>The Electoral College, also known as the Presi...</td>\n",
       "      <td>5</td>\n",
       "      <td>dolly</td>\n",
       "      <td>4</td>\n",
       "    </tr>\n",
       "    <tr>\n",
       "      <th>...</th>\n",
       "      <td>...</td>\n",
       "      <td>...</td>\n",
       "      <td>...</td>\n",
       "      <td>...</td>\n",
       "    </tr>\n",
       "    <tr>\n",
       "      <th>17995</th>\n",
       "      <td>Driverless cars are something we've envisioned...</td>\n",
       "      <td>0</td>\n",
       "      <td>human</td>\n",
       "      <td>17995</td>\n",
       "    </tr>\n",
       "    <tr>\n",
       "      <th>17996</th>\n",
       "      <td>Seeking advice and help from others when maki...</td>\n",
       "      <td>2</td>\n",
       "      <td>cohere</td>\n",
       "      <td>17996</td>\n",
       "    </tr>\n",
       "    <tr>\n",
       "      <th>17997</th>\n",
       "      <td>Extracurriculars are important for students be...</td>\n",
       "      <td>4</td>\n",
       "      <td>bloomz</td>\n",
       "      <td>17997</td>\n",
       "    </tr>\n",
       "    <tr>\n",
       "      <th>17998</th>\n",
       "      <td>Title: Overcoming the Challenges of Landing on...</td>\n",
       "      <td>1</td>\n",
       "      <td>chatGPT</td>\n",
       "      <td>17998</td>\n",
       "    </tr>\n",
       "    <tr>\n",
       "      <th>17999</th>\n",
       "      <td>We have all had to make a tough decision, and ...</td>\n",
       "      <td>0</td>\n",
       "      <td>human</td>\n",
       "      <td>17999</td>\n",
       "    </tr>\n",
       "  </tbody>\n",
       "</table>\n",
       "<p>18000 rows × 4 columns</p>\n",
       "</div>"
      ],
      "text/plain": [
       "                                                    text  label    model  \\\n",
       "0      Decision-making is one of life's most difficul...      4   bloomz   \n",
       "1      When you think of voting for president, do you...      0    human   \n",
       "2      Driverless Cars - Limitations & Potential Draw...      4   bloomz   \n",
       "3      There are multiple benefits to attending high ...      5    dolly   \n",
       "4      The Electoral College, also known as the Presi...      5    dolly   \n",
       "...                                                  ...    ...      ...   \n",
       "17995  Driverless cars are something we've envisioned...      0    human   \n",
       "17996   Seeking advice and help from others when maki...      2   cohere   \n",
       "17997  Extracurriculars are important for students be...      4   bloomz   \n",
       "17998  Title: Overcoming the Challenges of Landing on...      1  chatGPT   \n",
       "17999  We have all had to make a tough decision, and ...      0    human   \n",
       "\n",
       "          id  \n",
       "0          0  \n",
       "1          1  \n",
       "2          2  \n",
       "3          3  \n",
       "4          4  \n",
       "...      ...  \n",
       "17995  17995  \n",
       "17996  17996  \n",
       "17997  17997  \n",
       "17998  17998  \n",
       "17999  17999  \n",
       "\n",
       "[18000 rows x 4 columns]"
      ]
     },
     "execution_count": 376,
     "metadata": {},
     "output_type": "execute_result"
    }
   ],
   "source": [
    "df = pd.read_json(\"/Users/ccreanga/Downloads/subtaskB.jsonl\", lines=True)\n",
    "df"
   ]
  },
  {
   "cell_type": "code",
   "execution_count": 374,
   "id": "bb596349-16c0-41c7-ba76-f691e7d223d3",
   "metadata": {},
   "outputs": [
    {
     "data": {
      "text/html": [
       "<div>\n",
       "<style scoped>\n",
       "    .dataframe tbody tr th:only-of-type {\n",
       "        vertical-align: middle;\n",
       "    }\n",
       "\n",
       "    .dataframe tbody tr th {\n",
       "        vertical-align: top;\n",
       "    }\n",
       "\n",
       "    .dataframe thead th {\n",
       "        text-align: right;\n",
       "    }\n",
       "</style>\n",
       "<table border=\"1\" class=\"dataframe\">\n",
       "  <thead>\n",
       "    <tr style=\"text-align: right;\">\n",
       "      <th></th>\n",
       "      <th>id</th>\n",
       "      <th>predictions</th>\n",
       "    </tr>\n",
       "  </thead>\n",
       "  <tbody>\n",
       "    <tr>\n",
       "      <th>0</th>\n",
       "      <td>0</td>\n",
       "      <td>4</td>\n",
       "    </tr>\n",
       "    <tr>\n",
       "      <th>1</th>\n",
       "      <td>1</td>\n",
       "      <td>0</td>\n",
       "    </tr>\n",
       "    <tr>\n",
       "      <th>2</th>\n",
       "      <td>2</td>\n",
       "      <td>4</td>\n",
       "    </tr>\n",
       "    <tr>\n",
       "      <th>3</th>\n",
       "      <td>3</td>\n",
       "      <td>5</td>\n",
       "    </tr>\n",
       "    <tr>\n",
       "      <th>4</th>\n",
       "      <td>4</td>\n",
       "      <td>5</td>\n",
       "    </tr>\n",
       "    <tr>\n",
       "      <th>...</th>\n",
       "      <td>...</td>\n",
       "      <td>...</td>\n",
       "    </tr>\n",
       "    <tr>\n",
       "      <th>17995</th>\n",
       "      <td>17995</td>\n",
       "      <td>0</td>\n",
       "    </tr>\n",
       "    <tr>\n",
       "      <th>17996</th>\n",
       "      <td>17996</td>\n",
       "      <td>3</td>\n",
       "    </tr>\n",
       "    <tr>\n",
       "      <th>17997</th>\n",
       "      <td>17997</td>\n",
       "      <td>4</td>\n",
       "    </tr>\n",
       "    <tr>\n",
       "      <th>17998</th>\n",
       "      <td>17998</td>\n",
       "      <td>1</td>\n",
       "    </tr>\n",
       "    <tr>\n",
       "      <th>17999</th>\n",
       "      <td>17999</td>\n",
       "      <td>0</td>\n",
       "    </tr>\n",
       "  </tbody>\n",
       "</table>\n",
       "<p>18000 rows × 2 columns</p>\n",
       "</div>"
      ],
      "text/plain": [
       "          id  predictions\n",
       "0          0            4\n",
       "1          1            0\n",
       "2          2            4\n",
       "3          3            5\n",
       "4          4            5\n",
       "...      ...          ...\n",
       "17995  17995            0\n",
       "17996  17996            3\n",
       "17997  17997            4\n",
       "17998  17998            1\n",
       "17999  17999            0\n",
       "\n",
       "[18000 rows x 2 columns]"
      ]
     },
     "execution_count": 374,
     "metadata": {},
     "output_type": "execute_result"
    }
   ],
   "source": [
    "df1 = pd.read_json(\"/Users/ccreanga/Downloads/predictions/subtask_b.jsonl\", lines=True)\n",
    "df1.columns=[\"id\", \"predictions\"]\n",
    "df1"
   ]
  },
  {
   "cell_type": "code",
   "execution_count": 387,
   "id": "5d0bbbf5-3ffe-4131-8dae-c1561eaa0b83",
   "metadata": {},
   "outputs": [
    {
     "data": {
      "text/plain": [
       "<Figure size 1000x600 with 0 Axes>"
      ]
     },
     "metadata": {},
     "output_type": "display_data"
    },
    {
     "data": {
      "image/png": "[encoded data removed]",
      "text/plain": [
       "<Figure size 640x480 with 1 Axes>"
      ]
     },
     "metadata": {},
     "output_type": "display_data"
    }
   ],
   "source": [
    "df2 = pd.read_json(\"/Users/ccreanga/projects/machine-generated_text_detection/data/combined_data/SubtaskB/SubtaskB_train.jsonl\", lines=True)\n",
    "df1 = pd.read_json(\"/Users/ccreanga/Downloads/predictions/subtask_b.jsonl\", lines=True)\n",
    "# Calculate accuracy for each domain\n",
    "domain_accuracy = df2[df2[\"model\"] != \"human\"].groupby('model').count()\n",
    "\n",
    "# Plotting\n",
    "plt.figure(figsize=(10, 6))\n",
    "domain_accuracy.plot(kind='bar', color='skyblue')\n",
    "plt.title('Accuracy by Domain')\n",
    "plt.xlabel('Model')\n",
    "plt.ylabel('Accuracy')\n",
    "plt.xticks(rotation=45)  # Rotate domain names for better readability\n",
    "plt.show()\n"
   ]
  },
  {
   "cell_type": "code",
   "execution_count": 379,
   "id": "322dc9a4-1977-4f0e-84cb-b4b787a8dd21",
   "metadata": {},
   "outputs": [
    {
     "ename": "KeyError",
     "evalue": "'label'",
     "output_type": "error",
     "traceback": [
      "\u001b[0;31m---------------------------------------------------------------------------\u001b[0m",
      "\u001b[0;31mKeyError\u001b[0m                                  Traceback (most recent call last)",
      "File \u001b[0;32m~/miniconda/envs/ml10/lib/python3.10/site-packages/pandas/core/indexes/base.py:3790\u001b[0m, in \u001b[0;36mIndex.get_loc\u001b[0;34m(self, key)\u001b[0m\n\u001b[1;32m   3789\u001b[0m \u001b[38;5;28;01mtry\u001b[39;00m:\n\u001b[0;32m-> 3790\u001b[0m     \u001b[38;5;28;01mreturn\u001b[39;00m \u001b[38;5;28;43mself\u001b[39;49m\u001b[38;5;241;43m.\u001b[39;49m\u001b[43m_engine\u001b[49m\u001b[38;5;241;43m.\u001b[39;49m\u001b[43mget_loc\u001b[49m\u001b[43m(\u001b[49m\u001b[43mcasted_key\u001b[49m\u001b[43m)\u001b[49m\n\u001b[1;32m   3791\u001b[0m \u001b[38;5;28;01mexcept\u001b[39;00m \u001b[38;5;167;01mKeyError\u001b[39;00m \u001b[38;5;28;01mas\u001b[39;00m err:\n",
      "File \u001b[0;32mindex.pyx:152\u001b[0m, in \u001b[0;36mpandas._libs.index.IndexEngine.get_loc\u001b[0;34m()\u001b[0m\n",
      "File \u001b[0;32mindex.pyx:181\u001b[0m, in \u001b[0;36mpandas._libs.index.IndexEngine.get_loc\u001b[0;34m()\u001b[0m\n",
      "File \u001b[0;32mpandas/_libs/hashtable_class_helper.pxi:7080\u001b[0m, in \u001b[0;36mpandas._libs.hashtable.PyObjectHashTable.get_item\u001b[0;34m()\u001b[0m\n",
      "File \u001b[0;32mpandas/_libs/hashtable_class_helper.pxi:7088\u001b[0m, in \u001b[0;36mpandas._libs.hashtable.PyObjectHashTable.get_item\u001b[0;34m()\u001b[0m\n",
      "\u001b[0;31mKeyError\u001b[0m: 'label'",
      "\nThe above exception was the direct cause of the following exception:\n",
      "\u001b[0;31mKeyError\u001b[0m                                  Traceback (most recent call last)",
      "Cell \u001b[0;32mIn[379], line 4\u001b[0m\n\u001b[1;32m      1\u001b[0m merged_df \u001b[38;5;241m=\u001b[39m pd\u001b[38;5;241m.\u001b[39mmerge(df, df1, on\u001b[38;5;241m=\u001b[39m\u001b[38;5;124m'\u001b[39m\u001b[38;5;124mid\u001b[39m\u001b[38;5;124m'\u001b[39m)\n\u001b[1;32m      3\u001b[0m \u001b[38;5;66;03m# Calculate accuracy for each domain\u001b[39;00m\n\u001b[0;32m----> 4\u001b[0m domain_accuracy \u001b[38;5;241m=\u001b[39m \u001b[43mmerged_df\u001b[49m\u001b[38;5;241;43m.\u001b[39;49m\u001b[43mgroupby\u001b[49m\u001b[43m(\u001b[49m\u001b[38;5;124;43m'\u001b[39;49m\u001b[38;5;124;43mmodel\u001b[39;49m\u001b[38;5;124;43m'\u001b[39;49m\u001b[43m)\u001b[49m\u001b[38;5;241;43m.\u001b[39;49m\u001b[43mapply\u001b[49m\u001b[43m(\u001b[49m\u001b[38;5;28;43;01mlambda\u001b[39;49;00m\u001b[43m \u001b[49m\u001b[43mx\u001b[49m\u001b[43m:\u001b[49m\u001b[43m \u001b[49m\u001b[43m(\u001b[49m\u001b[43mx\u001b[49m\u001b[43m[\u001b[49m\u001b[38;5;124;43m'\u001b[39;49m\u001b[38;5;124;43mlabel\u001b[39;49m\u001b[38;5;124;43m'\u001b[39;49m\u001b[43m]\u001b[49m\u001b[43m \u001b[49m\u001b[38;5;241;43m==\u001b[39;49m\u001b[43m \u001b[49m\u001b[43mx\u001b[49m\u001b[43m[\u001b[49m\u001b[38;5;124;43m'\u001b[39;49m\u001b[38;5;124;43mpredictions\u001b[39;49m\u001b[38;5;124;43m'\u001b[39;49m\u001b[43m]\u001b[49m\u001b[43m)\u001b[49m\u001b[38;5;241;43m.\u001b[39;49m\u001b[43mmean\u001b[49m\u001b[43m(\u001b[49m\u001b[43m)\u001b[49m\u001b[43m)\u001b[49m\n\u001b[1;32m      6\u001b[0m \u001b[38;5;66;03m# Plotting\u001b[39;00m\n\u001b[1;32m      7\u001b[0m plt\u001b[38;5;241m.\u001b[39mfigure(figsize\u001b[38;5;241m=\u001b[39m(\u001b[38;5;241m10\u001b[39m, \u001b[38;5;241m6\u001b[39m))\n",
      "File \u001b[0;32m~/miniconda/envs/ml10/lib/python3.10/site-packages/pandas/core/groupby/groupby.py:1770\u001b[0m, in \u001b[0;36mGroupBy.apply\u001b[0;34m(self, func, *args, **kwargs)\u001b[0m\n\u001b[1;32m   1768\u001b[0m \u001b[38;5;28;01mwith\u001b[39;00m option_context(\u001b[38;5;124m\"\u001b[39m\u001b[38;5;124mmode.chained_assignment\u001b[39m\u001b[38;5;124m\"\u001b[39m, \u001b[38;5;28;01mNone\u001b[39;00m):\n\u001b[1;32m   1769\u001b[0m     \u001b[38;5;28;01mtry\u001b[39;00m:\n\u001b[0;32m-> 1770\u001b[0m         result \u001b[38;5;241m=\u001b[39m \u001b[38;5;28;43mself\u001b[39;49m\u001b[38;5;241;43m.\u001b[39;49m\u001b[43m_python_apply_general\u001b[49m\u001b[43m(\u001b[49m\u001b[43mf\u001b[49m\u001b[43m,\u001b[49m\u001b[43m \u001b[49m\u001b[38;5;28;43mself\u001b[39;49m\u001b[38;5;241;43m.\u001b[39;49m\u001b[43m_selected_obj\u001b[49m\u001b[43m)\u001b[49m\n\u001b[1;32m   1771\u001b[0m     \u001b[38;5;28;01mexcept\u001b[39;00m \u001b[38;5;167;01mTypeError\u001b[39;00m:\n\u001b[1;32m   1772\u001b[0m         \u001b[38;5;66;03m# gh-20949\u001b[39;00m\n\u001b[1;32m   1773\u001b[0m         \u001b[38;5;66;03m# try again, with .apply acting as a filtering\u001b[39;00m\n\u001b[0;32m   (...)\u001b[0m\n\u001b[1;32m   1777\u001b[0m         \u001b[38;5;66;03m# fails on *some* columns, e.g. a numeric operation\u001b[39;00m\n\u001b[1;32m   1778\u001b[0m         \u001b[38;5;66;03m# on a string grouper column\u001b[39;00m\n\u001b[1;32m   1780\u001b[0m         \u001b[38;5;28;01mreturn\u001b[39;00m \u001b[38;5;28mself\u001b[39m\u001b[38;5;241m.\u001b[39m_python_apply_general(f, \u001b[38;5;28mself\u001b[39m\u001b[38;5;241m.\u001b[39m_obj_with_exclusions)\n",
      "File \u001b[0;32m~/miniconda/envs/ml10/lib/python3.10/site-packages/pandas/core/groupby/groupby.py:1819\u001b[0m, in \u001b[0;36mGroupBy._python_apply_general\u001b[0;34m(self, f, data, not_indexed_same, is_transform, is_agg)\u001b[0m\n\u001b[1;32m   1784\u001b[0m \u001b[38;5;129m@final\u001b[39m\n\u001b[1;32m   1785\u001b[0m \u001b[38;5;28;01mdef\u001b[39;00m \u001b[38;5;21m_python_apply_general\u001b[39m(\n\u001b[1;32m   1786\u001b[0m     \u001b[38;5;28mself\u001b[39m,\n\u001b[0;32m   (...)\u001b[0m\n\u001b[1;32m   1791\u001b[0m     is_agg: \u001b[38;5;28mbool\u001b[39m \u001b[38;5;241m=\u001b[39m \u001b[38;5;28;01mFalse\u001b[39;00m,\n\u001b[1;32m   1792\u001b[0m ) \u001b[38;5;241m-\u001b[39m\u001b[38;5;241m>\u001b[39m NDFrameT:\n\u001b[1;32m   1793\u001b[0m \u001b[38;5;250m    \u001b[39m\u001b[38;5;124;03m\"\"\"\u001b[39;00m\n\u001b[1;32m   1794\u001b[0m \u001b[38;5;124;03m    Apply function f in python space\u001b[39;00m\n\u001b[1;32m   1795\u001b[0m \n\u001b[0;32m   (...)\u001b[0m\n\u001b[1;32m   1817\u001b[0m \u001b[38;5;124;03m        data after applying f\u001b[39;00m\n\u001b[1;32m   1818\u001b[0m \u001b[38;5;124;03m    \"\"\"\u001b[39;00m\n\u001b[0;32m-> 1819\u001b[0m     values, mutated \u001b[38;5;241m=\u001b[39m \u001b[38;5;28;43mself\u001b[39;49m\u001b[38;5;241;43m.\u001b[39;49m\u001b[43mgrouper\u001b[49m\u001b[38;5;241;43m.\u001b[39;49m\u001b[43mapply_groupwise\u001b[49m\u001b[43m(\u001b[49m\u001b[43mf\u001b[49m\u001b[43m,\u001b[49m\u001b[43m \u001b[49m\u001b[43mdata\u001b[49m\u001b[43m,\u001b[49m\u001b[43m \u001b[49m\u001b[38;5;28;43mself\u001b[39;49m\u001b[38;5;241;43m.\u001b[39;49m\u001b[43maxis\u001b[49m\u001b[43m)\u001b[49m\n\u001b[1;32m   1820\u001b[0m     \u001b[38;5;28;01mif\u001b[39;00m not_indexed_same \u001b[38;5;129;01mis\u001b[39;00m \u001b[38;5;28;01mNone\u001b[39;00m:\n\u001b[1;32m   1821\u001b[0m         not_indexed_same \u001b[38;5;241m=\u001b[39m mutated\n",
      "File \u001b[0;32m~/miniconda/envs/ml10/lib/python3.10/site-packages/pandas/core/groupby/ops.py:905\u001b[0m, in \u001b[0;36mBaseGrouper.apply_groupwise\u001b[0;34m(self, f, data, axis)\u001b[0m\n\u001b[1;32m    903\u001b[0m \u001b[38;5;66;03m# group might be modified\u001b[39;00m\n\u001b[1;32m    904\u001b[0m group_axes \u001b[38;5;241m=\u001b[39m group\u001b[38;5;241m.\u001b[39maxes\n\u001b[0;32m--> 905\u001b[0m res \u001b[38;5;241m=\u001b[39m \u001b[43mf\u001b[49m\u001b[43m(\u001b[49m\u001b[43mgroup\u001b[49m\u001b[43m)\u001b[49m\n\u001b[1;32m    906\u001b[0m \u001b[38;5;28;01mif\u001b[39;00m \u001b[38;5;129;01mnot\u001b[39;00m mutated \u001b[38;5;129;01mand\u001b[39;00m \u001b[38;5;129;01mnot\u001b[39;00m _is_indexed_like(res, group_axes, axis):\n\u001b[1;32m    907\u001b[0m     mutated \u001b[38;5;241m=\u001b[39m \u001b[38;5;28;01mTrue\u001b[39;00m\n",
      "Cell \u001b[0;32mIn[379], line 4\u001b[0m, in \u001b[0;36m<lambda>\u001b[0;34m(x)\u001b[0m\n\u001b[1;32m      1\u001b[0m merged_df \u001b[38;5;241m=\u001b[39m pd\u001b[38;5;241m.\u001b[39mmerge(df, df1, on\u001b[38;5;241m=\u001b[39m\u001b[38;5;124m'\u001b[39m\u001b[38;5;124mid\u001b[39m\u001b[38;5;124m'\u001b[39m)\n\u001b[1;32m      3\u001b[0m \u001b[38;5;66;03m# Calculate accuracy for each domain\u001b[39;00m\n\u001b[0;32m----> 4\u001b[0m domain_accuracy \u001b[38;5;241m=\u001b[39m merged_df\u001b[38;5;241m.\u001b[39mgroupby(\u001b[38;5;124m'\u001b[39m\u001b[38;5;124mmodel\u001b[39m\u001b[38;5;124m'\u001b[39m)\u001b[38;5;241m.\u001b[39mapply(\u001b[38;5;28;01mlambda\u001b[39;00m x: (\u001b[43mx\u001b[49m\u001b[43m[\u001b[49m\u001b[38;5;124;43m'\u001b[39;49m\u001b[38;5;124;43mlabel\u001b[39;49m\u001b[38;5;124;43m'\u001b[39;49m\u001b[43m]\u001b[49m \u001b[38;5;241m==\u001b[39m x[\u001b[38;5;124m'\u001b[39m\u001b[38;5;124mpredictions\u001b[39m\u001b[38;5;124m'\u001b[39m])\u001b[38;5;241m.\u001b[39mmean())\n\u001b[1;32m      6\u001b[0m \u001b[38;5;66;03m# Plotting\u001b[39;00m\n\u001b[1;32m      7\u001b[0m plt\u001b[38;5;241m.\u001b[39mfigure(figsize\u001b[38;5;241m=\u001b[39m(\u001b[38;5;241m10\u001b[39m, \u001b[38;5;241m6\u001b[39m))\n",
      "File \u001b[0;32m~/miniconda/envs/ml10/lib/python3.10/site-packages/pandas/core/frame.py:3893\u001b[0m, in \u001b[0;36mDataFrame.__getitem__\u001b[0;34m(self, key)\u001b[0m\n\u001b[1;32m   3891\u001b[0m \u001b[38;5;28;01mif\u001b[39;00m \u001b[38;5;28mself\u001b[39m\u001b[38;5;241m.\u001b[39mcolumns\u001b[38;5;241m.\u001b[39mnlevels \u001b[38;5;241m>\u001b[39m \u001b[38;5;241m1\u001b[39m:\n\u001b[1;32m   3892\u001b[0m     \u001b[38;5;28;01mreturn\u001b[39;00m \u001b[38;5;28mself\u001b[39m\u001b[38;5;241m.\u001b[39m_getitem_multilevel(key)\n\u001b[0;32m-> 3893\u001b[0m indexer \u001b[38;5;241m=\u001b[39m \u001b[38;5;28;43mself\u001b[39;49m\u001b[38;5;241;43m.\u001b[39;49m\u001b[43mcolumns\u001b[49m\u001b[38;5;241;43m.\u001b[39;49m\u001b[43mget_loc\u001b[49m\u001b[43m(\u001b[49m\u001b[43mkey\u001b[49m\u001b[43m)\u001b[49m\n\u001b[1;32m   3894\u001b[0m \u001b[38;5;28;01mif\u001b[39;00m is_integer(indexer):\n\u001b[1;32m   3895\u001b[0m     indexer \u001b[38;5;241m=\u001b[39m [indexer]\n",
      "File \u001b[0;32m~/miniconda/envs/ml10/lib/python3.10/site-packages/pandas/core/indexes/base.py:3797\u001b[0m, in \u001b[0;36mIndex.get_loc\u001b[0;34m(self, key)\u001b[0m\n\u001b[1;32m   3792\u001b[0m     \u001b[38;5;28;01mif\u001b[39;00m \u001b[38;5;28misinstance\u001b[39m(casted_key, \u001b[38;5;28mslice\u001b[39m) \u001b[38;5;129;01mor\u001b[39;00m (\n\u001b[1;32m   3793\u001b[0m         \u001b[38;5;28misinstance\u001b[39m(casted_key, abc\u001b[38;5;241m.\u001b[39mIterable)\n\u001b[1;32m   3794\u001b[0m         \u001b[38;5;129;01mand\u001b[39;00m \u001b[38;5;28many\u001b[39m(\u001b[38;5;28misinstance\u001b[39m(x, \u001b[38;5;28mslice\u001b[39m) \u001b[38;5;28;01mfor\u001b[39;00m x \u001b[38;5;129;01min\u001b[39;00m casted_key)\n\u001b[1;32m   3795\u001b[0m     ):\n\u001b[1;32m   3796\u001b[0m         \u001b[38;5;28;01mraise\u001b[39;00m InvalidIndexError(key)\n\u001b[0;32m-> 3797\u001b[0m     \u001b[38;5;28;01mraise\u001b[39;00m \u001b[38;5;167;01mKeyError\u001b[39;00m(key) \u001b[38;5;28;01mfrom\u001b[39;00m \u001b[38;5;21;01merr\u001b[39;00m\n\u001b[1;32m   3798\u001b[0m \u001b[38;5;28;01mexcept\u001b[39;00m \u001b[38;5;167;01mTypeError\u001b[39;00m:\n\u001b[1;32m   3799\u001b[0m     \u001b[38;5;66;03m# If we have a listlike key, _check_indexing_error will raise\u001b[39;00m\n\u001b[1;32m   3800\u001b[0m     \u001b[38;5;66;03m#  InvalidIndexError. Otherwise we fall through and re-raise\u001b[39;00m\n\u001b[1;32m   3801\u001b[0m     \u001b[38;5;66;03m#  the TypeError.\u001b[39;00m\n\u001b[1;32m   3802\u001b[0m     \u001b[38;5;28mself\u001b[39m\u001b[38;5;241m.\u001b[39m_check_indexing_error(key)\n",
      "\u001b[0;31mKeyError\u001b[0m: 'label'"
     ]
    }
   ],
   "source": [
    "merged_df = pd.merge(df, df1, on='id')\n",
    "\n",
    "# Calculate accuracy for each domain\n",
    "domain_accuracy = merged_df.groupby('model').apply(lambda x: (x['label'] == x['predictions']).mean())\n",
    "\n",
    "# Plotting\n",
    "plt.figure(figsize=(10, 6))\n",
    "domain_accuracy.plot(kind='bar', color='skyblue')\n",
    "plt.title('Accuracy by Domain')\n",
    "plt.xlabel('Model')\n",
    "plt.ylabel('Accuracy')\n",
    "plt.xticks(rotation=45)  # Rotate domain names for better readability\n",
    "plt.show()"
   ]
  },
  {
   "cell_type": "code",
   "execution_count": 362,
   "id": "2edea948-9eb3-4d43-84dc-b41ceb4d6977",
   "metadata": {},
   "outputs": [],
   "source": [
    "merged_df_b = merged_df\n",
    "merged_df_b[\"tokens\"] = merged_df_b[\"text\"].apply(lambda x: tokenizer.encode(x))\n"
   ]
  },
  {
   "cell_type": "code",
   "execution_count": 363,
   "id": "4d7e8830-27d6-489b-af49-a8f3a60721cc",
   "metadata": {},
   "outputs": [],
   "source": [
    "merged_df_b[\"count\"] = merged_df_b[\"tokens\"].apply(lambda x: len(x))\n",
    "merged_df_b['count_max'] = merged_df_b['count'].apply(lambda x: min(x, 3000))\n"
   ]
  },
  {
   "cell_type": "code",
   "execution_count": 367,
   "id": "bdc09c7e-13f0-40cf-a67c-5d45bdb159ac",
   "metadata": {},
   "outputs": [
    {
     "name": "stderr",
     "output_type": "stream",
     "text": [
      "/var/folders/3c/1ts460nx6f9b6c23_b03v2xm0000gs/T/ipykernel_87095/295234207.py:4: FutureWarning: The default of observed=False is deprecated and will be changed to True in a future version of pandas. Pass observed=False to retain current behavior or observed=True to adopt the future default and silence this warning.\n",
      "  size_bin_accuracy_df1 = merged_df_mono.groupby('size_bin').apply(lambda x: (x['label'] == x['predictions']).mean())\n",
      "/var/folders/3c/1ts460nx6f9b6c23_b03v2xm0000gs/T/ipykernel_87095/295234207.py:5: FutureWarning: The default of observed=False is deprecated and will be changed to True in a future version of pandas. Pass observed=False to retain current behavior or observed=True to adopt the future default and silence this warning.\n",
      "  size_bin_accuracy_df2 = merged_df_multi.groupby('size_bin').apply(lambda x: (x['label'] == x['predictions']).mean())\n",
      "/var/folders/3c/1ts460nx6f9b6c23_b03v2xm0000gs/T/ipykernel_87095/295234207.py:6: FutureWarning: The default of observed=False is deprecated and will be changed to True in a future version of pandas. Pass observed=False to retain current behavior or observed=True to adopt the future default and silence this warning.\n",
      "  size_bin_accuracy_df3 = merged_df_b.groupby('size_bin').apply(lambda x: (x['label'] == x['predictions']).mean())\n"
     ]
    },
    {
     "data": {
      "image/png": "[encoded data removed]",
      "text/plain": [
       "<Figure size 1000x600 with 1 Axes>"
      ]
     },
     "metadata": {},
     "output_type": "display_data"
    }
   ],
   "source": [
    "# Calculate accuracy for each size bin for both dataframes\n",
    "merged_df_b['size_bin'] = pd.cut(merged_df_b['count_max'], bins=range(0, merged_df_b['count_max'].max() + 100, 100), right=False)\n",
    "\n",
    "size_bin_accuracy_df1 = merged_df_mono.groupby('size_bin').apply(lambda x: (x['label'] == x['predictions']).mean())\n",
    "size_bin_accuracy_df2 = merged_df_multi.groupby('size_bin').apply(lambda x: (x['label'] == x['predictions']).mean())\n",
    "size_bin_accuracy_df3 = merged_df_b.groupby('size_bin').apply(lambda x: (x['label'] == x['predictions']).mean())\n",
    "\n",
    "# Extract the lower bound of the size bins to use as x-axis labels\n",
    "size_bin_labels_df1 = [int(interval.left) for interval in size_bin_accuracy_df1.index]\n",
    "size_bin_labels_df2 = [int(interval.left) for interval in size_bin_accuracy_df2.index]\n",
    "size_bin_labels_df3 = [int(interval.left) for interval in size_bin_accuracy_df3.index]\n",
    "\n",
    "# Plotting accuracy by size bin using a line plot for both dataframes\n",
    "plt.figure(figsize=(10, 6))\n",
    "plt.plot(size_bin_labels_df1, size_bin_accuracy_df1, color='skyblue', linestyle='-', label='Monolingual')\n",
    "plt.plot(size_bin_labels_df2, size_bin_accuracy_df2, color='orange', linestyle='-', label='Multilingual')\n",
    "plt.plot(size_bin_labels_df3, size_bin_accuracy_df3, color='red', linestyle='-', label='Task B')\n",
    "\n",
    "plt.title('Accuracy by Token Length for Two Dataframes')\n",
    "plt.xlabel('Text Length by Number of Tokens')\n",
    "plt.ylabel('Accuracy')\n",
    "plt.xticks([0, 500, 1000, 1500, 2000, 2500, 3000])  # Set x-axis ticks to the lower bounds of the size bins\n",
    "plt.legend()\n",
    "plt.grid(True)\n",
    "plt.show()"
   ]
  },
  {
   "cell_type": "code",
   "execution_count": 368,
   "id": "2dcee27c-c3b9-4339-817f-c96866436572",
   "metadata": {},
   "outputs": [
    {
     "data": {
      "text/html": [
       "<div>\n",
       "<style scoped>\n",
       "    .dataframe tbody tr th:only-of-type {\n",
       "        vertical-align: middle;\n",
       "    }\n",
       "\n",
       "    .dataframe tbody tr th {\n",
       "        vertical-align: top;\n",
       "    }\n",
       "\n",
       "    .dataframe thead th {\n",
       "        text-align: right;\n",
       "    }\n",
       "</style>\n",
       "<table border=\"1\" class=\"dataframe\">\n",
       "  <thead>\n",
       "    <tr style=\"text-align: right;\">\n",
       "      <th></th>\n",
       "      <th>id</th>\n",
       "      <th>text</th>\n",
       "      <th>label</th>\n",
       "    </tr>\n",
       "  </thead>\n",
       "  <tbody>\n",
       "    <tr>\n",
       "      <th>0</th>\n",
       "      <td>0</td>\n",
       "      <td>This paper aims to investigate the question if...</td>\n",
       "      <td>176</td>\n",
       "    </tr>\n",
       "    <tr>\n",
       "      <th>1</th>\n",
       "      <td>1</td>\n",
       "      <td>Seeing a thousand opinions is better than only...</td>\n",
       "      <td>34</td>\n",
       "    </tr>\n",
       "    <tr>\n",
       "      <th>2</th>\n",
       "      <td>2</td>\n",
       "      <td>This paper proposes an approach to learning wo...</td>\n",
       "      <td>122</td>\n",
       "    </tr>\n",
       "    <tr>\n",
       "      <th>3</th>\n",
       "      <td>3</td>\n",
       "      <td>Interesting work on hierarchical control, simi...</td>\n",
       "      <td>45</td>\n",
       "    </tr>\n",
       "    <tr>\n",
       "      <th>4</th>\n",
       "      <td>4</td>\n",
       "      <td>Is it a good idea to force students to partici...</td>\n",
       "      <td>73</td>\n",
       "    </tr>\n",
       "    <tr>\n",
       "      <th>...</th>\n",
       "      <td>...</td>\n",
       "      <td>...</td>\n",
       "      <td>...</td>\n",
       "    </tr>\n",
       "    <tr>\n",
       "      <th>11118</th>\n",
       "      <td>11118</td>\n",
       "      <td>The paper presents a promising approach to add...</td>\n",
       "      <td>3</td>\n",
       "    </tr>\n",
       "    <tr>\n",
       "      <th>11119</th>\n",
       "      <td>11119</td>\n",
       "      <td>We have updated our paper to include changes t...</td>\n",
       "      <td>15</td>\n",
       "    </tr>\n",
       "    <tr>\n",
       "      <th>11120</th>\n",
       "      <td>11120</td>\n",
       "      <td>This extension to RNNs is clearly motivated, a...</td>\n",
       "      <td>11</td>\n",
       "    </tr>\n",
       "    <tr>\n",
       "      <th>11121</th>\n",
       "      <td>11121</td>\n",
       "      <td>Classrooms in this time period are filled with...</td>\n",
       "      <td>131</td>\n",
       "    </tr>\n",
       "    <tr>\n",
       "      <th>11122</th>\n",
       "      <td>11122</td>\n",
       "      <td>A new sparse coding model is introduced that l...</td>\n",
       "      <td>193</td>\n",
       "    </tr>\n",
       "  </tbody>\n",
       "</table>\n",
       "<p>11123 rows × 3 columns</p>\n",
       "</div>"
      ],
      "text/plain": [
       "          id                                               text  label\n",
       "0          0  This paper aims to investigate the question if...    176\n",
       "1          1  Seeing a thousand opinions is better than only...     34\n",
       "2          2  This paper proposes an approach to learning wo...    122\n",
       "3          3  Interesting work on hierarchical control, simi...     45\n",
       "4          4  Is it a good idea to force students to partici...     73\n",
       "...      ...                                                ...    ...\n",
       "11118  11118  The paper presents a promising approach to add...      3\n",
       "11119  11119  We have updated our paper to include changes t...     15\n",
       "11120  11120  This extension to RNNs is clearly motivated, a...     11\n",
       "11121  11121  Classrooms in this time period are filled with...    131\n",
       "11122  11122  A new sparse coding model is introduced that l...    193\n",
       "\n",
       "[11123 rows x 3 columns]"
      ]
     },
     "execution_count": 368,
     "metadata": {},
     "output_type": "execute_result"
    }
   ],
   "source": [
    "df = pd.read_json(\"/Users/ccreanga/Downloads/subtaskC.jsonl\", lines=True)\n",
    "df"
   ]
  },
  {
   "cell_type": "code",
   "execution_count": 369,
   "id": "cf10a3b5-3b3d-4095-8c5b-3a2fcc6f3133",
   "metadata": {},
   "outputs": [
    {
     "data": {
      "text/html": [
       "<div>\n",
       "<style scoped>\n",
       "    .dataframe tbody tr th:only-of-type {\n",
       "        vertical-align: middle;\n",
       "    }\n",
       "\n",
       "    .dataframe tbody tr th {\n",
       "        vertical-align: top;\n",
       "    }\n",
       "\n",
       "    .dataframe thead th {\n",
       "        text-align: right;\n",
       "    }\n",
       "</style>\n",
       "<table border=\"1\" class=\"dataframe\">\n",
       "  <thead>\n",
       "    <tr style=\"text-align: right;\">\n",
       "      <th></th>\n",
       "      <th>id</th>\n",
       "      <th>predictions</th>\n",
       "    </tr>\n",
       "  </thead>\n",
       "  <tbody>\n",
       "    <tr>\n",
       "      <th>0</th>\n",
       "      <td>0</td>\n",
       "      <td>182</td>\n",
       "    </tr>\n",
       "    <tr>\n",
       "      <th>1</th>\n",
       "      <td>1</td>\n",
       "      <td>356</td>\n",
       "    </tr>\n",
       "    <tr>\n",
       "      <th>2</th>\n",
       "      <td>2</td>\n",
       "      <td>169</td>\n",
       "    </tr>\n",
       "    <tr>\n",
       "      <th>3</th>\n",
       "      <td>3</td>\n",
       "      <td>146</td>\n",
       "    </tr>\n",
       "    <tr>\n",
       "      <th>4</th>\n",
       "      <td>4</td>\n",
       "      <td>377</td>\n",
       "    </tr>\n",
       "    <tr>\n",
       "      <th>...</th>\n",
       "      <td>...</td>\n",
       "      <td>...</td>\n",
       "    </tr>\n",
       "    <tr>\n",
       "      <th>11118</th>\n",
       "      <td>11118</td>\n",
       "      <td>3</td>\n",
       "    </tr>\n",
       "    <tr>\n",
       "      <th>11119</th>\n",
       "      <td>11119</td>\n",
       "      <td>18</td>\n",
       "    </tr>\n",
       "    <tr>\n",
       "      <th>11120</th>\n",
       "      <td>11120</td>\n",
       "      <td>18</td>\n",
       "    </tr>\n",
       "    <tr>\n",
       "      <th>11121</th>\n",
       "      <td>11121</td>\n",
       "      <td>173</td>\n",
       "    </tr>\n",
       "    <tr>\n",
       "      <th>11122</th>\n",
       "      <td>11122</td>\n",
       "      <td>230</td>\n",
       "    </tr>\n",
       "  </tbody>\n",
       "</table>\n",
       "<p>11123 rows × 2 columns</p>\n",
       "</div>"
      ],
      "text/plain": [
       "          id  predictions\n",
       "0          0          182\n",
       "1          1          356\n",
       "2          2          169\n",
       "3          3          146\n",
       "4          4          377\n",
       "...      ...          ...\n",
       "11118  11118            3\n",
       "11119  11119           18\n",
       "11120  11120           18\n",
       "11121  11121          173\n",
       "11122  11122          230\n",
       "\n",
       "[11123 rows x 2 columns]"
      ]
     },
     "execution_count": 369,
     "metadata": {},
     "output_type": "execute_result"
    }
   ],
   "source": [
    "df1 = pd.read_json(\"/Users/ccreanga/Downloads/predictions/subtask_c.jsonl\", lines=True)\n",
    "df1.columns=[\"id\", \"predictions\"]\n",
    "df1"
   ]
  },
  {
   "cell_type": "code",
   "execution_count": null,
   "id": "2eddb7b1-0464-49a2-8c17-913876a0b3b1",
   "metadata": {},
   "outputs": [],
   "source": []
  }
 ],
 "metadata": {
  "kernelspec": {
   "display_name": "Python 3 (ipykernel)",
   "language": "python",
   "name": "python3"
  },
  "language_info": {
   "codemirror_mode": {
    "name": "ipython",
    "version": 3
   },
   "file_extension": ".py",
   "mimetype": "text/x-python",
   "name": "python",
   "nbconvert_exporter": "python",
   "pygments_lexer": "ipython3",
   "version": "3.12.0"
  }
 },
 "nbformat": 4,
 "nbformat_minor": 5
}
